{
 "cells": [
  {
   "cell_type": "code",
   "execution_count": 2,
   "metadata": {},
   "outputs": [],
   "source": [
    "import requests\n",
    "r = requests.get('https://myneta.info/tamilnadu2016/')"
   ]
  },
  {
   "cell_type": "code",
   "execution_count": 3,
   "metadata": {},
   "outputs": [
    {
     "data": {
      "text/plain": [
       "'\\t\\t\\t<html>\\n\\t\\t\\t\\t<head>\\n\\t\\t\\t\\t   <title>List of constituencies (District Wise)  : Tamil Nadu 2016 Election Candidate Information</title>\\n\\t\\t\\t\\t   <meta name=\"description\" content=\"It provides criminal and financial background information on candidates, MPs and MLAs contesting in elections.It also has information on income and expenditure of political parties.\">\\n                                <META HTTP-EQUIV=\"Content-Type\" CONTENT=\"text/html; charset=UTF-8\">\\n    \\t\\t\\t\\t<meta http-equiv=\"x-ua-compatible\" '"
      ]
     },
     "execution_count": 3,
     "metadata": {},
     "output_type": "execute_result"
    }
   ],
   "source": [
    "r.text[0:500]"
   ]
  },
  {
   "cell_type": "code",
   "execution_count": 4,
   "metadata": {},
   "outputs": [],
   "source": [
    "#import beautifulsoup\n",
    "from bs4 import BeautifulSoup\n",
    "mainpage = BeautifulSoup(r.text, 'html.parser')"
   ]
  },
  {
   "cell_type": "code",
   "execution_count": 5,
   "metadata": {},
   "outputs": [
    {
     "data": {
      "text/plain": [
       " <html>\n",
       "<head>\n",
       "<title>List of constituencies (District Wise)  : Tamil Nadu 2016 Election Candidate Information</title>\n",
       "<meta content=\"It provides criminal and financial background information on candidates, MPs and MLAs contesting in elections.It also has information on income and expenditure of political parties.\" name=\"description\"/>\n",
       "<meta content=\"text/html; charset=utf-8\" http-equiv=\"Content-Type\"/>\n",
       "<meta content=\"ie=edge\" http-equiv=\"x-ua-compatible\">\n",
       "<meta content=\"width=device-width, initial-scale=1, minimum-scale=1, maximum-scale=1\" name=\"viewport\">\n",
       "<meta content=\"ADR\" name=\"author\"/>\n",
       "<link href=\"../favicon.ico\" rel=\"shortcut icon\" type=\"image/x-icon\"/>\n",
       "<link href=\"/lib/css/text.css\" rel=\"stylesheet\">\n",
       "<link href=\"/lib/css/main.css\" rel=\"stylesheet\"/>\n",
       "<script src=\"//platform-api.sharethis.com/js/sharethis.js#property=58cba0c10743420011ab1652&amp;product=inline-share-buttons\" type=\"text/javascript\"></script>\n",
       "<link href=\"https://fonts.googleapis.com/css?family=Rokkitt:400,700\" rel=\"stylesheet\" type=\"text/css\"/>\n",
       "<link href=\"https://fonts.googleapis.com/css?family=Droid+Sans:400,700\" rel=\"stylesheet\" type=\"text/css\"/>\n",
       "<script type=\"text/javascript\">\n",
       "\t\t\t\t\t\tfunction confirmation()\n",
       "\t\t\t\t\t\t{\n",
       "\t\t\t\t\t\t\tif (document.form1.discrepancy.value.length<= 49)\n",
       "\t\t\t\t\t\t\t{\n",
       "\t\t\t\t\t\t\t\talert('Please enter at least 50 characters in discrepancy!');\n",
       "\t\t\t\t\t\t\t\treturn false;\n",
       "\t\t\t\t\t\t\t}\n",
       "\t\t\t\t\t\t\treturn true;\n",
       "\t\t\t\t\t\t}\n",
       "\t\t\t\t\t</script>\n",
       "<script src=\"https://ajax.googleapis.com/ajax/libs/jquery/1.7.2/jquery.min.js\"></script>\n",
       "<script src=\"/lib/js/adapt-config.js\"></script>\n",
       "<script src=\"/lib/js/adapt.min.js\"></script>\n",
       "<script src=\"/lib/js/fix-table-header.js\"></script>\n",
       "<script src=\"/lib/js/app.js\"></script>\n",
       "<!-- Put the following javascript before the closing </head> tag. -->\n",
       "<script>\n",
       "  \t\t\t\t\t(function() {\n",
       "   \t\t\t\t\t\tvar cx = '014214505007285591097:vf77t8iuwrc';\n",
       "    \t\t\t\t\tvar gcse = document.createElement('script'); gcse.type = 'text/javascript'; gcse.async = true;\n",
       "    \t\t\t\t\tgcse.src = (document.location.protocol == 'https:' ? 'https:' : 'http:') +'//www.google.com/cse/cse.js?cx=' + cx;\n",
       "    \t\t\t\t\tvar s = document.getElementsByTagName('script')[0]; s.parentNode.insertBefore(gcse, s);\n",
       "  \t\t\t\t\t})();\n",
       "\t\t\t\t\t</script>\n",
       "<script type=\"text/javascript\">\n",
       "  \t\t\t\tvar _gaq = _gaq || [];\n",
       "  \t\t\t\t_gaq.push(['_setAccount', 'UA-26901527-2']);\n",
       "  \t\t\t\t_gaq.push(['_setDomainName', 'myneta.info']);\n",
       "  \t\t\t\t_gaq.push(['_trackPageview']);\n",
       "\n",
       "  \t\t\t\t(function() {\n",
       "   \t\t\t\t var ga = document.createElement('script'); ga.type = 'text/javascript'; ga.async = true;\n",
       "    \t\t\t\tga.src = ('https:' == document.location.protocol ? 'https://ssl' : 'https://www') + '.google-analytics.com/ga.js';\n",
       "    \t\t\t\tvar s = document.getElementsByTagName('script')[0]; s.parentNode.insertBefore(ga, s);\n",
       "  \t\t\t\t})();\n",
       "\t\t\t\t</script>\n",
       "<script> window._izq = window._izq || []; window._izq.push([\"init\"]); </script>\n",
       "<!-- WhatsHelp.io widget -->\n",
       "<script type=\"text/javascript\">\n",
       "                                    (function () {\n",
       "                                    var options = {\n",
       "                                    facebook: \"2004855309735503\", // Facebook page ID\n",
       "                                    whatsapp: \"+917840067840\", // WhatsApp number\n",
       "                                    call_to_action: \"Message us\", // Call to action\n",
       "                                    button_color: \"#FF6550\", // Color of button\n",
       "                                    position: \"right\", // Position may be 'right' or 'left'\n",
       "                                    order: \"facebook,whatsapp\", // Order of buttons\n",
       "                                    };\n",
       "                                    var proto = document.location.protocol, host = \"whatshelp.io\", url = proto + \"//static.\" + host;\n",
       "                                    var s = document.createElement('script'); s.type = 'text/javascript'; s.async = true; s.src = url + '/widget-send-button/js/init.js';\n",
       "                                    s.onload = function () { WhWidgetSendButton.init(host, proto, options); };\n",
       "                                    var x = document.getElementsByTagName('script')[0]; x.parentNode.insertBefore(s, x);\n",
       "                                    })();\n",
       "                                    </script>\n",
       "<!-- /WhatsHelp.io widget -->\n",
       "</link></meta></meta></head>\n",
       "<body>\n",
       "<!--<div align=right><a href=\"https://play.google.com/store/apps/details?id=com.webrosoft.myneta1\"><img src=\"/lib/img/android-logo-small.png\" />Myneta Android App </a>\t</div>-->\n",
       "<!--Logos-->\n",
       "<div class=\"container_12\">\n",
       "<div class=\"grid_3 logo\">\n",
       "<a href=\"/\"><img alt=\"Myneta Logo\" src=\"/lib/img/myneta-logo.jpg\" title=\"MyNeta Logo\"/></a><img border=\"0\" height=\"20\" src=\"/new.gif\" width=\"30\"/>\n",
       "</div>\n",
       "<div class=\"grid_6\" style=\"text-align:center;vertical-align: bottom;\">\n",
       "<br/><br/>\n",
       "<form action=\"/search_myneta.php\" align=\"center\" method=\"get\" valgin=\"bottom\">\n",
       "<input name=\"q\" placeholder=\"Neta/Constituency Name\" size=\"20\" type=\"text\"/>\n",
       "        \t\t\t\t\t\t <input type=\"submit\" value=\"Search\"/>\n",
       "        \t\t\t\t\t\t <a href=\"/advance_search.php\" style=\"text-decoration:none;\">Advanced search</a>\n",
       "</form>\n",
       "</div>\n",
       "<div class=\"grid_3 logo\">\n",
       "<a href=\"https://adrindia.org\" target=\"_blank\"><img id=\"adr-logo\" src=\"/lib/img/logo-adr.png\" title=\"ADR Logo :)\"/></a>\n",
       "</div>\n",
       "</div>\n",
       "<!--Menus -->\n",
       "<div class=\"menu-bg\">\n",
       "<div class=\"container_12\">\n",
       "<div class=\"grid_12\">\n",
       "<ul class=\"main-menu\">\n",
       "<li><a href=\"/\">Home</a></li>\n",
       "<li><a href=\"https://adrindia.org/content/about-myneta\" target=\"_blank\" title=\"About Myneta\">About Myneta</a> </li>\n",
       "<li><a href=\"https://adrindia.org/about-adr/who-we-are\" target=\"_blank\" title=\"About ADR\">About ADR</a> </li>\n",
       "<li><a href=\"/#ls\" title=\"Election Watch\">Lok Sabha</a></li>\n",
       "<li><a href=\"/#rs\" title=\"Research &amp; Reports\">Rajya Sabha</a></li>\n",
       "<li><a href=\"/party\" title=\"Political Parties\">Political Parties <img border=\"0\" height=\"20\" src=\"/new.gif\" width=\"30\"/></a></li>\n",
       "<li><a href=\"https://adrindia.org/about-adr/state-coordinators\" target=\"_blank\" title=\"Partners\">Partners</a></li>\n",
       "<li><a href=\"https://adrindia.org/contact-us\" target=\"_blank\" title=\"Contact Us\">Contact Us</a></li>\n",
       "<li><a href=\"https://adrindia.org/donate\" target=\"_blank\" title=\"Donate\">Donate</a></li>\n",
       "<li><a href=\"https://adrindia.org/content/faqs\" target=\"_blank\" title=\"FAQs\">FAQs</a></li>\n",
       "<li><a href=\"https://adrindia.org/content/myneta-terms-use\" target=\"_blank\" title=\"Terms of Use\">Terms of Use</a></li>\n",
       "<li><a href=\"https://translate.google.co.in/translate?prev=hp&amp;hl=en&amp;js=y&amp;u=myneta.info&amp;sl=en&amp;tl=hi&amp;history_state0=\" style=\"text-decoration: none\">॥माय नेता हिंदी मे॥</a></li>\n",
       "</ul>\n",
       "</div>\n",
       "</div>\n",
       "</div>\n",
       "<div class=\"banner-bg\">\n",
       "<div class=\"container_12\">\n",
       "<div class=\"grid_12\">\n",
       "<li><img src=\"/lib/img/banner/banner-2.png\"/></li>\n",
       "</div>\n",
       "</div>\n",
       "</div>\n",
       "<!--Main Content-->\n",
       "<div id=\"main\">\n",
       "<div class=\"container_12\">\n",
       "<div class=\"items\"><a href=\"/\">Home</a>→<b>Tamil Nadu 2016</b><hr/></div>\n",
       "<div class=\"grid_9\">\n",
       "<h2 class=\"title first\">Tamil Nadu 2016</h2></div></div></div></body></html>\n",
       "<a name=\"summary\"></a><h3 class=\"title blue first\">Election Summary</h3><span class=\"grid_9\"><span class=\"grid_4\">\n",
       "<table style=\"padding:2px;border:0;\">\n",
       "<tr><th valign=\"center\">HIGHLIGHTS OF CANDIDATES</th></tr>\n",
       "<tr><td><b>Total number of constituencies analyzed=234</b></td></tr>\n",
       "<tr><td><a href=\"index.php?action=summary&amp;subAction=candidates_analyzed&amp;sort=candidate#summary\">Total candidates analyzed by NEW = <b>2302</b></a></td></tr>\n",
       "<tr><td><a href=\"index.php?action=summary&amp;subAction=crime&amp;sort=candidate#summary\">Candidates with declared criminal cases = <b>390 (17%)</b></a></td></tr>\n",
       "<tr><td><a href=\"index.php?action=summary&amp;subAction=serious_crime&amp;sort=candidate#summary\">Candidates with declared serious criminal cases = <b>218 (9%)</b></a></td></tr>\n",
       "<tr><td><a href=\"index.php?action=summary&amp;subAction=crorepati&amp;sort=candidate#summary\">Crorepati candidates = <b>635 (28%)</b></a></td></tr>\n",
       "<tr><td><a href=\"index.php?action=summary&amp;subAction=education&amp;sort=candidate#summary\">Candidates who are graduate or above = <b>910 (40%)</b></a></td></tr>\n",
       "<tr><td><a href=\"index.php?action=summary&amp;subAction=without_pan&amp;sort=candidate#summary\">Candidates who have not declared PAN = <b>617 (27%)</b></a></td></tr>\n",
       "<tr><td><a href=\"index.php?action=summary&amp;subAction=women_candidate&amp;sort=candidate#summary\">Total women candidates  = <b>214 (9%)</b></a></td></tr>\n",
       "<tr><td><a href=\"index.php?action=summary&amp;subAction=filed_itr&amp;sort=candidate#summary\">Total candidates who have filed ITR = <b>972 (42%)</b></a></td></tr>\n",
       "</table></span><span class=\"grid_4\"> <table style=\"padding:2px;border:0;\">\n",
       "<tr><th>HIGHLIGHTS OF WINNERS</th></tr>\n",
       "<tr><td> </td></tr>\n",
       "<tr><td><a href=\"index.php?action=summary&amp;subAction=winner_analyzed&amp;sort=candidate#summary\">Total winners analyzed by NEW = <b>223</b></a></td></tr>\n",
       "<tr><td><a href=\"index.php?action=summary&amp;subAction=winner_crime&amp;sort=candidate#summary\">Winners with declared criminal cases = <b>74 (33%)</b></a></td></tr>\n",
       "<tr><td><a href=\"index.php?action=summary&amp;subAction=winner_serious_crime&amp;sort=candidate#summary\">Winners with declared serious criminal cases = <b>41 (18%)</b></a></td></tr>\n",
       "<tr><td><a href=\"index.php?action=summary&amp;subAction=winner_crorepati&amp;sort=candidate#summary\">Crorepati winners = <b>171 (77%)</b></a></td></tr>\n",
       "<tr><td><a href=\"index.php?action=summary&amp;subAction=winner_education&amp;sort=candidate#summary\">Winners who are graduate or above = <b>126 (57%)</b></a></td></tr>\n",
       "<tr><td><a href=\"index.php?action=summary&amp;subAction=winner_without_pan&amp;sort=candidate#summary\">Winners  who have not declared PAN = <b>6 (3%)</b></a></td></tr>\n",
       "<tr><td><a href=\"index.php?action=summary&amp;subAction=winner_women&amp;sort=candidate#summary\">Total women winners  = <b>19 (9%)</b></a></td></tr>\n",
       "<tr><td><a href=\"index.php?action=summary&amp;subAction=winner_filed_itr&amp;sort=candidate#summary\">Total winners who have filed ITR = <b>191 (86%)</b></a></td></tr>\n",
       "</table></span></span><div class=\"clearfix\"></div><div class=\"grid_9 alpha omega\"></div><div class=\"grid_9 alpha omega\"><h3 class=\"title yellow first\">List of constituencies (District Wise)  </h3></div><div class=\"clearfix\"></div><table align=\"center\" border=\"1\" width=\"100%\"><tr><th align=\"left\" colspan=\"5\"><font color=\"#330033\" size=\"4\"><h5 class=\"title\"><a href=\"index.php?action=show_constituencies&amp;state_id=1\" style=\"text-decoration: none ;color:black \">ARIYALUR </a></h5></font></th></tr><tr></tr><tr><td><div class=\"items\"> 1: <a href=\"index.php?action=show_candidates&amp;constituency_id=1\" title=\"Date of Election 16-05-2016\">ARIYALUR</a> <br/><br/> </div></td><td><div class=\"items\"> 2: <a href=\"index.php?action=show_candidates&amp;constituency_id=2\" title=\"Date of Election 16-05-2016\">JAYANKONDAM</a> <br/><br/> </div></td><td colspan=\"2\">  </td></tr><tr><th align=\"left\" colspan=\"5\"><font color=\"#330033\" size=\"4\"><h5 class=\"title\"><a href=\"index.php?action=show_constituencies&amp;state_id=2\" style=\"text-decoration: none ;color:black \">CHENNAI </a></h5></font></th></tr><tr></tr><tr><td><div class=\"items\"> 1: <a href=\"index.php?action=show_candidates&amp;constituency_id=8\" title=\"Date of Election 16-05-2016\">ANNA NAGAR</a> <br/><br/> </div></td><td><div class=\"items\"> 2: <a href=\"index.php?action=show_candidates&amp;constituency_id=10\" title=\"Date of Election 16-05-2016\">CHEPAUK-THIRUVALLIKENI</a> <br/><br/> </div></td><td><div class=\"items\"> 3(a) : <a href=\"index.php?action=show_candidates&amp;constituency_id=3\" title=\"Date of Election 16-05-2016\">DR.RADHAKRISHNAN NAGAR</a> <br/><br/>3(b):  <a href=\"https://myneta.info/tamilnadu2016/index.php?action=show_candidates&amp;constituency_id=238\">DR.RADHAKRISHNAN NAGAR : BYE- ELECTION ON 12-04-2017</a></div></td><td><div class=\"items\"> 4: <a href=\"index.php?action=show_candidates&amp;constituency_id=13\" title=\"Date of Election 16-05-2016\">EGMORE</a> <br/><br/> </div></td></tr><tr><td><div class=\"items\"> 5: <a href=\"index.php?action=show_candidates&amp;constituency_id=11\" title=\"Date of Election 16-05-2016\">HARBOUR</a> <br/><br/> </div></td><td><div class=\"items\"> 6: <a href=\"index.php?action=show_candidates&amp;constituency_id=16\" title=\"Date of Election 16-05-2016\">KOLATHUR</a> <br/><br/> </div></td><td><div class=\"items\"> 7: <a href=\"index.php?action=show_candidates&amp;constituency_id=4\" title=\"Date of Election 16-05-2016\">MYLAPORE</a> <br/><br/> </div></td><td><div class=\"items\"> 8(a) : <a href=\"index.php?action=show_candidates&amp;constituency_id=17\" title=\"Date of Election 16-05-2016\">PERAMBUR</a> <br/><br/>8(b):  <a href=\"https://myneta.info/tamilnadu2016/index.php?action=show_candidates&amp;constituency_id=241\">PERAMBUR : BYE ELECTION ON 18-04-2019</a></div></td></tr><tr><td><div class=\"items\"> 9: <a href=\"index.php?action=show_candidates&amp;constituency_id=12\" title=\"Date of Election 16-05-2016\">ROYAPURAM</a> <br/><br/> </div></td><td><div class=\"items\"> 10: <a href=\"index.php?action=show_candidates&amp;constituency_id=6\" title=\"Date of Election 16-05-2016\">SAIDAPET</a> <br/><br/> </div></td><td><div class=\"items\"> 11: <a href=\"index.php?action=show_candidates&amp;constituency_id=14\" title=\"Date of Election 16-05-2016\">THIRU-VI-KA-NAGAR</a> <br/><br/> </div></td><td><div class=\"items\"> 12: <a href=\"index.php?action=show_candidates&amp;constituency_id=5\" title=\"Date of Election 16-05-2016\">THIYAGARAYANAGAR</a> <br/><br/> </div></td></tr><tr><td><div class=\"items\"> 13: <a href=\"index.php?action=show_candidates&amp;constituency_id=9\" title=\"Date of Election 16-05-2016\">THOUSAND LIGHTS</a> <br/><br/> </div></td><td><div class=\"items\"> 14: <a href=\"index.php?action=show_candidates&amp;constituency_id=18\" title=\"Date of Election 16-05-2016\">VELACHERY</a> <br/><br/> </div></td><td><div class=\"items\"> 15: <a href=\"index.php?action=show_candidates&amp;constituency_id=15\" title=\"Date of Election 16-05-2016\">VILLIVAKKAM</a> <br/><br/> </div></td><td><div class=\"items\"> 16: <a href=\"index.php?action=show_candidates&amp;constituency_id=7\" title=\"Date of Election 16-05-2016\">VIRUGAMPAKKAM</a> <br/><br/> </div></td></tr><tr><th align=\"left\" colspan=\"5\"><font color=\"#330033\" size=\"4\"><h5 class=\"title\"><a href=\"index.php?action=show_constituencies&amp;state_id=3\" style=\"text-decoration: none ;color:black \">COIMBATORE </a></h5></font></th></tr><tr></tr><tr><td><div class=\"items\"> 1: <a href=\"index.php?action=show_candidates&amp;constituency_id=25\" title=\"Date of Election 16-05-2016\">COIMBATORE (NORTH)</a> <br/><br/> </div></td><td><div class=\"items\"> 2: <a href=\"index.php?action=show_candidates&amp;constituency_id=23\" title=\"Date of Election 16-05-2016\">COIMBATORE (SOUTH)</a> <br/><br/> </div></td><td><div class=\"items\"> 3: <a href=\"index.php?action=show_candidates&amp;constituency_id=26\" title=\"Date of Election 16-05-2016\">KAVUNDAMPALAYAM</a> <br/><br/> </div></td><td><div class=\"items\"> 4: <a href=\"index.php?action=show_candidates&amp;constituency_id=21\" title=\"Date of Election 16-05-2016\">KINATHUKADAVU</a> <br/><br/> </div></td></tr><tr><td><div class=\"items\"> 5: <a href=\"index.php?action=show_candidates&amp;constituency_id=19\" title=\"Date of Election 16-05-2016\">METTUPPALAYAM</a> <br/><br/> </div></td><td><div class=\"items\"> 6: <a href=\"index.php?action=show_candidates&amp;constituency_id=20\" title=\"Date of Election 16-05-2016\">POLLACHI</a> <br/><br/> </div></td><td><div class=\"items\"> 7: <a href=\"index.php?action=show_candidates&amp;constituency_id=22\" title=\"Date of Election 16-05-2016\">SINGANALLUR</a> <br/><br/> </div></td><td><div class=\"items\"> 8(a) : <a href=\"index.php?action=show_candidates&amp;constituency_id=27\" title=\"Date of Election 16-05-2016\">SULUR</a> <br/><br/>8(b):  <a href=\"https://myneta.info/tamilnadu2016/index.php?action=show_candidates&amp;constituency_id=260\">SULUR : BYE ELECTION ON 19-05-2019</a></div></td></tr><tr><td><div class=\"items\"> 9: <a href=\"index.php?action=show_candidates&amp;constituency_id=24\" title=\"Date of Election 16-05-2016\">THONDAMUTHUR</a> <br/><br/> </div></td><td><div class=\"items\"> 10: <a href=\"index.php?action=show_candidates&amp;constituency_id=28\" title=\"Date of Election 16-05-2016\">VALPARAI</a> <br/><br/> </div></td><td colspan=\"2\">  </td></tr><tr><th align=\"left\" colspan=\"5\"><font color=\"#330033\" size=\"4\"><h5 class=\"title\"><a href=\"index.php?action=show_constituencies&amp;state_id=4\" style=\"text-decoration: none ;color:black \">CUDDALORE </a></h5></font></th></tr><tr></tr><tr><td><div class=\"items\"> 1: <a href=\"index.php?action=show_candidates&amp;constituency_id=35\" title=\"Date of Election 16-05-2016\">BHUVANAGIRI</a> <br/><br/> </div></td><td><div class=\"items\"> 2: <a href=\"index.php?action=show_candidates&amp;constituency_id=36\" title=\"Date of Election 16-05-2016\">CHIDAMBARAM</a> <br/><br/> </div></td><td><div class=\"items\"> 3: <a href=\"index.php?action=show_candidates&amp;constituency_id=33\" title=\"Date of Election 16-05-2016\">CUDDALORE</a> <br/><br/> </div></td><td><div class=\"items\"> 4: <a href=\"index.php?action=show_candidates&amp;constituency_id=37\" title=\"Date of Election 16-05-2016\">KATTUMANNARKOIL</a> <br/><br/> </div></td></tr><tr><td><div class=\"items\"> 5: <a href=\"index.php?action=show_candidates&amp;constituency_id=34\" title=\"Date of Election 16-05-2016\">KURINJIPADI</a> <br/><br/> </div></td><td><div class=\"items\"> 6: <a href=\"index.php?action=show_candidates&amp;constituency_id=31\" title=\"Date of Election 16-05-2016\">NEYVELI</a> <br/><br/> </div></td><td><div class=\"items\"> 7: <a href=\"index.php?action=show_candidates&amp;constituency_id=32\" title=\"Date of Election 16-05-2016\">PANRUTI</a> <br/><br/> </div></td><td><div class=\"items\"> 8: <a href=\"index.php?action=show_candidates&amp;constituency_id=29\" title=\"Date of Election 16-05-2016\">TITTAKUDI</a> <br/><br/> </div></td></tr><tr><td><div class=\"items\"> 9: <a href=\"index.php?action=show_candidates&amp;constituency_id=30\" title=\"Date of Election 16-05-2016\">VRIDDHACHALAM</a> <br/><br/> </div></td><td colspan=\"3\">  </td></tr><tr><th align=\"left\" colspan=\"5\"><font color=\"#330033\" size=\"4\"><h5 class=\"title\"><a href=\"index.php?action=show_constituencies&amp;state_id=5\" style=\"text-decoration: none ;color:black \">DHARMAPURI </a></h5></font></th></tr><tr></tr><tr><td><div class=\"items\"> 1: <a href=\"index.php?action=show_candidates&amp;constituency_id=40\" title=\"Date of Election 16-05-2016\">DHARMAPURI</a> <br/><br/> </div></td><td><div class=\"items\"> 2(a) : <a href=\"index.php?action=show_candidates&amp;constituency_id=42\" title=\"Date of Election 16-05-2016\">HARUR</a> <br/><br/>2(b):  <a href=\"https://myneta.info/tamilnadu2016/index.php?action=show_candidates&amp;constituency_id=248\">HARUR : BYE ELECTION ON 18-04-2019</a></div></td><td><div class=\"items\"> 3: <a href=\"index.php?action=show_candidates&amp;constituency_id=38\" title=\"Date of Election 16-05-2016\">PALACODU</a> <br/><br/> </div></td><td><div class=\"items\"> 4(a) : <a href=\"index.php?action=show_candidates&amp;constituency_id=41\" title=\"Date of Election 16-05-2016\">PAPPIREDDIPPATTI</a> <br/><br/>4(b):  <a href=\"https://myneta.info/tamilnadu2016/index.php?action=show_candidates&amp;constituency_id=247\">PAPPIREDDIPPATTI : BYE ELECTION ON 18-04-2019</a></div></td></tr><tr><td><div class=\"items\"> 5: <a href=\"index.php?action=show_candidates&amp;constituency_id=39\" title=\"Date of Election 16-05-2016\">PENNAGARAM</a> <br/><br/> </div></td><td colspan=\"3\">  </td></tr><tr><th align=\"left\" colspan=\"5\"><font color=\"#330033\" size=\"4\"><h5 class=\"title\"><a href=\"index.php?action=show_constituencies&amp;state_id=6\" style=\"text-decoration: none ;color:black \">DINDIGUL </a></h5></font></th></tr><tr></tr><tr><td><div class=\"items\"> 1: <a href=\"index.php?action=show_candidates&amp;constituency_id=45\" title=\"Date of Election 16-05-2016\">ATHOOR</a> <br/><br/> </div></td><td><div class=\"items\"> 2: <a href=\"index.php?action=show_candidates&amp;constituency_id=48\" title=\"Date of Election 16-05-2016\">DINDIGUL</a> <br/><br/> </div></td><td><div class=\"items\"> 3: <a href=\"index.php?action=show_candidates&amp;constituency_id=47\" title=\"Date of Election 16-05-2016\">NATHAM</a> <br/><br/> </div></td><td><div class=\"items\"> 4(a) : <a href=\"index.php?action=show_candidates&amp;constituency_id=46\" title=\"Date of Election 16-05-2016\">NILAKKOTTAI</a> <br/><br/>4(b):  <a href=\"https://myneta.info/tamilnadu2016/index.php?action=show_candidates&amp;constituency_id=249\">NILAKKOTTAI : BYE ELECTION ON 18-04-2019</a></div></td></tr><tr><td><div class=\"items\"> 5: <a href=\"index.php?action=show_candidates&amp;constituency_id=44\" title=\"Date of Election 16-05-2016\">ODDANCHATRAM</a> <br/><br/> </div></td><td><div class=\"items\"> 6: <a href=\"index.php?action=show_candidates&amp;constituency_id=43\" title=\"Date of Election 16-05-2016\">PALANI</a> <br/><br/> </div></td><td><div class=\"items\"> 7: <a href=\"index.php?action=show_candidates&amp;constituency_id=49\" title=\"Date of Election 16-05-2016\">VEDASANDUR</a> <br/><br/> </div></td><td colspan=\"1\">  </td></tr><tr><th align=\"left\" colspan=\"5\"><font color=\"#330033\" size=\"4\"><h5 class=\"title\"><a href=\"index.php?action=show_constituencies&amp;state_id=7\" style=\"text-decoration: none ;color:black \">ERODE </a></h5></font></th></tr><tr></tr><tr><td><div class=\"items\"> 1: <a href=\"index.php?action=show_candidates&amp;constituency_id=55\" title=\"Date of Election 16-05-2016\">ANTHIYUR</a> <br/><br/> </div></td><td><div class=\"items\"> 2: <a href=\"index.php?action=show_candidates&amp;constituency_id=54\" title=\"Date of Election 16-05-2016\">BHAVANI</a> <br/><br/> </div></td><td><div class=\"items\"> 3: <a href=\"index.php?action=show_candidates&amp;constituency_id=57\" title=\"Date of Election 16-05-2016\">BHAVANISAGAR</a> <br/><br/> </div></td><td><div class=\"items\"> 4: <a href=\"index.php?action=show_candidates&amp;constituency_id=50\" title=\"Date of Election 16-05-2016\">ERODE (EAST)</a> <br/><br/> </div></td></tr><tr><td><div class=\"items\"> 5: <a href=\"index.php?action=show_candidates&amp;constituency_id=51\" title=\"Date of Election 16-05-2016\">ERODE (WEST)</a> <br/><br/> </div></td><td><div class=\"items\"> 6: <a href=\"index.php?action=show_candidates&amp;constituency_id=56\" title=\"Date of Election 16-05-2016\">GOBICHETTIPALAYAM</a> <br/><br/> </div></td><td><div class=\"items\"> 7: <a href=\"index.php?action=show_candidates&amp;constituency_id=52\" title=\"Date of Election 16-05-2016\">MODAKKURICHI</a> <br/><br/> </div></td><td><div class=\"items\"> 8: <a href=\"index.php?action=show_candidates&amp;constituency_id=53\" title=\"Date of Election 16-05-2016\">PERUNDURAI</a> <br/><br/> </div></td></tr><tr><th align=\"left\" colspan=\"5\"><font color=\"#330033\" size=\"4\"><h5 class=\"title\"><a href=\"index.php?action=show_constituencies&amp;state_id=8\" style=\"text-decoration: none ;color:black \">KANCHEEPURAM </a></h5></font></th></tr><tr></tr><tr><td><div class=\"items\"> 1: <a href=\"index.php?action=show_candidates&amp;constituency_id=67\" title=\"Date of Election 16-05-2016\">ALANDUR</a> <br/><br/> </div></td><td><div class=\"items\"> 2: <a href=\"index.php?action=show_candidates&amp;constituency_id=63\" title=\"Date of Election 16-05-2016\">CHENGALPATTU</a> <br/><br/> </div></td><td><div class=\"items\"> 3: <a href=\"index.php?action=show_candidates&amp;constituency_id=61\" title=\"Date of Election 16-05-2016\">CHEYYUR</a> <br/><br/> </div></td><td><div class=\"items\"> 4: <a href=\"index.php?action=show_candidates&amp;constituency_id=68\" title=\"Date of Election 16-05-2016\">KANCHEEPURAM</a> <br/><br/> </div></td></tr><tr><td><div class=\"items\"> 5: <a href=\"index.php?action=show_candidates&amp;constituency_id=60\" title=\"Date of Election 16-05-2016\">MADURANTAKAM</a> <br/><br/> </div></td><td><div class=\"items\"> 6: <a href=\"index.php?action=show_candidates&amp;constituency_id=65\" title=\"Date of Election 16-05-2016\">PALLAVARAM</a> <br/><br/> </div></td><td><div class=\"items\"> 7: <a href=\"index.php?action=show_candidates&amp;constituency_id=58\" title=\"Date of Election 16-05-2016\">SHOZHINGANALLUR</a> <br/><br/> </div></td><td><div class=\"items\"> 8: <a href=\"index.php?action=show_candidates&amp;constituency_id=66\" title=\"Date of Election 16-05-2016\">SRIPERUMBUDUR</a> <br/><br/> </div></td></tr><tr><td><div class=\"items\"> 9: <a href=\"index.php?action=show_candidates&amp;constituency_id=64\" title=\"Date of Election 16-05-2016\">TAMBARAM</a> <br/><br/> </div></td><td><div class=\"items\"> 10(a) : <a href=\"index.php?action=show_candidates&amp;constituency_id=62\" title=\"Date of Election 16-05-2016\">THIRUPORUR</a> <br/><br/>10(b):  <a href=\"https://myneta.info/tamilnadu2016/index.php?action=show_candidates&amp;constituency_id=242\">THIRUPORUR : BYE ELECTION ON 18-04-2019</a></div></td><td><div class=\"items\"> 11: <a href=\"index.php?action=show_candidates&amp;constituency_id=59\" title=\"Date of Election 16-05-2016\">UTHIRAMERUR</a> <br/><br/> </div></td><td colspan=\"1\">  </td></tr><tr><th align=\"left\" colspan=\"5\"><font color=\"#330033\" size=\"4\"><h5 class=\"title\"><a href=\"index.php?action=show_constituencies&amp;state_id=9\" style=\"text-decoration: none ;color:black \">KANNIYAKUMARI </a></h5></font></th></tr><tr></tr><tr><td><div class=\"items\"> 1: <a href=\"index.php?action=show_candidates&amp;constituency_id=71\" title=\"Date of Election 16-05-2016\">COLACHAL</a> <br/><br/> </div></td><td><div class=\"items\"> 2: <a href=\"index.php?action=show_candidates&amp;constituency_id=69\" title=\"Date of Election 16-05-2016\">KANNIYAKUMARI</a> <br/><br/> </div></td><td><div class=\"items\"> 3: <a href=\"index.php?action=show_candidates&amp;constituency_id=74\" title=\"Date of Election 16-05-2016\">KILLIYOOR</a> <br/><br/> </div></td><td><div class=\"items\"> 4: <a href=\"index.php?action=show_candidates&amp;constituency_id=70\" title=\"Date of Election 16-05-2016\">NAGERCOIL</a> <br/><br/> </div></td></tr><tr><td><div class=\"items\"> 5: <a href=\"index.php?action=show_candidates&amp;constituency_id=72\" title=\"Date of Election 16-05-2016\">PADMANABHAPURAM</a> <br/><br/> </div></td><td><div class=\"items\"> 6: <a href=\"index.php?action=show_candidates&amp;constituency_id=73\" title=\"Date of Election 16-05-2016\">VILAVANCODE</a> <br/><br/> </div></td><td colspan=\"2\">  </td></tr><tr><th align=\"left\" colspan=\"5\"><font color=\"#330033\" size=\"4\"><h5 class=\"title\"><a href=\"index.php?action=show_constituencies&amp;state_id=10\" style=\"text-decoration: none ;color:black \">KARUR </a></h5></font></th></tr><tr></tr><tr><td><div class=\"items\"> 1(a) : <a href=\"index.php?action=show_candidates&amp;constituency_id=75\" title=\"Date of Election 16-05-2016\">ARAVAKURICHI</a> <br/><br/>1(b):  <a href=\"https://myneta.info/tamilnadu2016/index.php?action=show_candidates&amp;constituency_id=236\">ARAVAKURICHI : BYE ELECTION ON 19-11-2016</a></div></td><td><div class=\"items\"> 2: <a href=\"index.php?action=show_candidates&amp;constituency_id=76\" title=\"Date of Election 16-05-2016\">KARUR</a> <br/><br/> </div></td><td><div class=\"items\"> 3: <a href=\"index.php?action=show_candidates&amp;constituency_id=77\" title=\"Date of Election 16-05-2016\">KRISHNARAYAPURAM</a> <br/><br/> </div></td><td><div class=\"items\"> 4: <a href=\"index.php?action=show_candidates&amp;constituency_id=78\" title=\"Date of Election 16-05-2016\">KULITHALAI</a> <br/><br/> </div></td></tr><tr><th align=\"left\" colspan=\"5\"><font color=\"#330033\" size=\"4\"><h5 class=\"title\"><a href=\"index.php?action=show_constituencies&amp;state_id=11\" style=\"text-decoration: none ;color:black \">KRISHNAGIRI </a></h5></font></th></tr><tr></tr><tr><td><div class=\"items\"> 1: <a href=\"index.php?action=show_candidates&amp;constituency_id=80\" title=\"Date of Election 16-05-2016\">BARGUR</a> <br/><br/> </div></td><td><div class=\"items\"> 2(a) : <a href=\"index.php?action=show_candidates&amp;constituency_id=83\" title=\"Date of Election 16-05-2016\">HOSUR</a> <br/><br/>2(b):  <a href=\"https://myneta.info/tamilnadu2016/index.php?action=show_candidates&amp;constituency_id=246\">HOSUR : BYE ELECTION ON 18-04-2019</a></div></td><td><div class=\"items\"> 3: <a href=\"index.php?action=show_candidates&amp;constituency_id=81\" title=\"Date of Election 16-05-2016\">KRISHNAGIRI</a> <br/><br/> </div></td><td><div class=\"items\"> 4: <a href=\"index.php?action=show_candidates&amp;constituency_id=84\" title=\"Date of Election 16-05-2016\">THALLI</a> <br/><br/> </div></td></tr><tr><td><div class=\"items\"> 5: <a href=\"index.php?action=show_candidates&amp;constituency_id=79\" title=\"Date of Election 16-05-2016\">UTHANGARAI</a> <br/><br/> </div></td><td><div class=\"items\"> 6: <a href=\"index.php?action=show_candidates&amp;constituency_id=82\" title=\"Date of Election 16-05-2016\">VEPPANAHALLI</a> <br/><br/> </div></td><td colspan=\"2\">  </td></tr><tr><th align=\"left\" colspan=\"5\"><font color=\"#330033\" size=\"4\"><h5 class=\"title\"><a href=\"index.php?action=show_constituencies&amp;state_id=12\" style=\"text-decoration: none ;color:black \">MADURAI </a></h5></font></th></tr><tr></tr><tr><td><div class=\"items\"> 1: <a href=\"index.php?action=show_candidates&amp;constituency_id=89\" title=\"Date of Election 16-05-2016\">MADURAI CENTRAL</a> <br/><br/> </div></td><td><div class=\"items\"> 2: <a href=\"index.php?action=show_candidates&amp;constituency_id=93\" title=\"Date of Election 16-05-2016\">MADURAI EAST</a> <br/><br/> </div></td><td><div class=\"items\"> 3: <a href=\"index.php?action=show_candidates&amp;constituency_id=91\" title=\"Date of Election 16-05-2016\">MADURAI NORTH</a> <br/><br/> </div></td><td><div class=\"items\"> 4: <a href=\"index.php?action=show_candidates&amp;constituency_id=90\" title=\"Date of Election 16-05-2016\">MADURAI SOUTH</a> <br/><br/> </div></td></tr><tr><td><div class=\"items\"> 5: <a href=\"index.php?action=show_candidates&amp;constituency_id=88\" title=\"Date of Election 16-05-2016\">MADURAI WEST</a> <br/><br/> </div></td><td><div class=\"items\"> 6: <a href=\"index.php?action=show_candidates&amp;constituency_id=85\" title=\"Date of Election 16-05-2016\">MELUR</a> <br/><br/> </div></td><td><div class=\"items\"> 7: <a href=\"index.php?action=show_candidates&amp;constituency_id=92\" title=\"Date of Election 16-05-2016\">SHOLAVANDAN</a> <br/><br/> </div></td><td><div class=\"items\"> 8: <a href=\"index.php?action=show_candidates&amp;constituency_id=86\" title=\"Date of Election 16-05-2016\">THIRUMANGALAM</a> <br/><br/> </div></td></tr><tr><td><div class=\"items\"> 9(a) : <a href=\"index.php?action=show_candidates&amp;constituency_id=87\" title=\"Date of Election 16-05-2016\">THIRUPARANKUNDRAM</a> <br/><br/>9(b):  <a href=\"https://myneta.info/tamilnadu2016/index.php?action=show_candidates&amp;constituency_id=235\">THIRUPARANKUNDRAM : BYE ELECTION ON 19-11-2016</a></div></td><td><div class=\"items\"> 10: <a href=\"index.php?action=show_candidates&amp;constituency_id=94\" title=\"Date of Election 16-05-2016\">USILAMPATTI</a> <br/><br/> </div></td><td colspan=\"2\">  </td></tr><tr><th align=\"left\" colspan=\"5\"><font color=\"#330033\" size=\"4\"><h5 class=\"title\"><a href=\"index.php?action=show_constituencies&amp;state_id=13\" style=\"text-decoration: none ;color:black \">NAGAPATTINAM </a></h5></font></th></tr><tr></tr><tr><td><div class=\"items\"> 1: <a href=\"index.php?action=show_candidates&amp;constituency_id=99\" title=\"Date of Election 16-05-2016\">KILVELUR</a> <br/><br/> </div></td><td><div class=\"items\"> 2: <a href=\"index.php?action=show_candidates&amp;constituency_id=96\" title=\"Date of Election 16-05-2016\">MAYILADUTHURAI</a> <br/><br/> </div></td><td><div class=\"items\"> 3: <a href=\"index.php?action=show_candidates&amp;constituency_id=98\" title=\"Date of Election 16-05-2016\">NAGAPATTINAM</a> <br/><br/> </div></td><td><div class=\"items\"> 4: <a href=\"index.php?action=show_candidates&amp;constituency_id=97\" title=\"Date of Election 16-05-2016\">POOMPUHAR</a> <br/><br/> </div></td></tr><tr><td><div class=\"items\"> 5: <a href=\"index.php?action=show_candidates&amp;constituency_id=95\" title=\"Date of Election 16-05-2016\">SIRKAZHI</a> <br/><br/> </div></td><td><div class=\"items\"> 6: <a href=\"index.php?action=show_candidates&amp;constituency_id=100\" title=\"Date of Election 16-05-2016\">VEDARANYAM</a> <br/><br/> </div></td><td colspan=\"2\">  </td></tr><tr><th align=\"left\" colspan=\"5\"><font color=\"#330033\" size=\"4\"><h5 class=\"title\"><a href=\"index.php?action=show_constituencies&amp;state_id=14\" style=\"text-decoration: none ;color:black \">NAMAKKAL </a></h5></font></th></tr><tr></tr><tr><td><div class=\"items\"> 1: <a href=\"index.php?action=show_candidates&amp;constituency_id=106\" title=\"Date of Election 16-05-2016\">KUMARAPALAYAM</a> <br/><br/> </div></td><td><div class=\"items\"> 2: <a href=\"index.php?action=show_candidates&amp;constituency_id=103\" title=\"Date of Election 16-05-2016\">NAMAKKAL</a> <br/><br/> </div></td><td><div class=\"items\"> 3: <a href=\"index.php?action=show_candidates&amp;constituency_id=104\" title=\"Date of Election 16-05-2016\">PARAMATHI-VELUR</a> <br/><br/> </div></td><td><div class=\"items\"> 4: <a href=\"index.php?action=show_candidates&amp;constituency_id=101\" title=\"Date of Election 16-05-2016\">RASIPURAM</a> <br/><br/> </div></td></tr><tr><td><div class=\"items\"> 5: <a href=\"index.php?action=show_candidates&amp;constituency_id=102\" title=\"Date of Election 16-05-2016\">SENTHAMANGALAM</a> <br/><br/> </div></td><td><div class=\"items\"> 6: <a href=\"index.php?action=show_candidates&amp;constituency_id=105\" title=\"Date of Election 16-05-2016\">TIRUCHENGODU</a> <br/><br/> </div></td><td colspan=\"2\">  </td></tr><tr><th align=\"left\" colspan=\"5\"><font color=\"#330033\" size=\"4\"><h5 class=\"title\"><a href=\"index.php?action=show_constituencies&amp;state_id=15\" style=\"text-decoration: none ;color:black \">PERAMBALUR </a></h5></font></th></tr><tr></tr><tr><td><div class=\"items\"> 1: <a href=\"index.php?action=show_candidates&amp;constituency_id=108\" title=\"Date of Election 16-05-2016\">KUNNAM</a> <br/><br/> </div></td><td><div class=\"items\"> 2: <a href=\"index.php?action=show_candidates&amp;constituency_id=107\" title=\"Date of Election 16-05-2016\">PERAMBALUR</a> <br/><br/> </div></td><td colspan=\"2\">  </td></tr><tr><th align=\"left\" colspan=\"5\"><font color=\"#330033\" size=\"4\"><h5 class=\"title\"><a href=\"index.php?action=show_constituencies&amp;state_id=16\" style=\"text-decoration: none ;color:black \">PUDUKKOTTAI </a></h5></font></th></tr><tr></tr><tr><td><div class=\"items\"> 1: <a href=\"index.php?action=show_candidates&amp;constituency_id=113\" title=\"Date of Election 16-05-2016\">ALANGUDI</a> <br/><br/> </div></td><td><div class=\"items\"> 2: <a href=\"index.php?action=show_candidates&amp;constituency_id=114\" title=\"Date of Election 16-05-2016\">ARANTHANGI</a> <br/><br/> </div></td><td><div class=\"items\"> 3: <a href=\"index.php?action=show_candidates&amp;constituency_id=109\" title=\"Date of Election 16-05-2016\">GANDHARVAKOTTAI</a> <br/><br/> </div></td><td><div class=\"items\"> 4: <a href=\"index.php?action=show_candidates&amp;constituency_id=111\" title=\"Date of Election 16-05-2016\">PUDUKKOTTAI</a> <br/><br/> </div></td></tr><tr><td><div class=\"items\"> 5: <a href=\"index.php?action=show_candidates&amp;constituency_id=112\" title=\"Date of Election 16-05-2016\">THIRUMAYAM</a> <br/><br/> </div></td><td><div class=\"items\"> 6: <a href=\"index.php?action=show_candidates&amp;constituency_id=110\" title=\"Date of Election 16-05-2016\">VIRALIMALAI</a> <br/><br/> </div></td><td colspan=\"2\">  </td></tr><tr><th align=\"left\" colspan=\"5\"><font color=\"#330033\" size=\"4\"><h5 class=\"title\"><a href=\"index.php?action=show_constituencies&amp;state_id=17\" style=\"text-decoration: none ;color:black \">RAMANATHAPURAM </a></h5></font></th></tr><tr></tr><tr><td><div class=\"items\"> 1: <a href=\"index.php?action=show_candidates&amp;constituency_id=118\" title=\"Date of Election 16-05-2016\">MUDHUKULATHUR</a> <br/><br/> </div></td><td><div class=\"items\"> 2(a) : <a href=\"index.php?action=show_candidates&amp;constituency_id=115\" title=\"Date of Election 16-05-2016\">PARAMAKUDI</a> <br/><br/>2(b):  <a href=\"https://myneta.info/tamilnadu2016/index.php?action=show_candidates&amp;constituency_id=254\">PARAMAKUDI : BYE ELECTION ON 18-04-2019</a></div></td><td><div class=\"items\"> 3: <a href=\"index.php?action=show_candidates&amp;constituency_id=117\" title=\"Date of Election 16-05-2016\">RAMANATHAPURAM</a> <br/><br/> </div></td><td><div class=\"items\"> 4: <a href=\"index.php?action=show_candidates&amp;constituency_id=116\" title=\"Date of Election 16-05-2016\">TIRUVADANAI</a> <br/><br/> </div></td></tr><tr><th align=\"left\" colspan=\"5\"><font color=\"#330033\" size=\"4\"><h5 class=\"title\"><a href=\"index.php?action=show_constituencies&amp;state_id=18\" style=\"text-decoration: none ;color:black \">SALEM </a></h5></font></th></tr><tr></tr><tr><td><div class=\"items\"> 1: <a href=\"index.php?action=show_candidates&amp;constituency_id=128\" title=\"Date of Election 16-05-2016\">ATTUR</a> <br/><br/> </div></td><td><div class=\"items\"> 2: <a href=\"index.php?action=show_candidates&amp;constituency_id=124\" title=\"Date of Election 16-05-2016\">EDAPPADI</a> <br/><br/> </div></td><td><div class=\"items\"> 3: <a href=\"index.php?action=show_candidates&amp;constituency_id=119\" title=\"Date of Election 16-05-2016\">GANGAVALLI</a> <br/><br/> </div></td><td><div class=\"items\"> 4: <a href=\"index.php?action=show_candidates&amp;constituency_id=125\" title=\"Date of Election 16-05-2016\">METTUR</a> <br/><br/> </div></td></tr><tr><td><div class=\"items\"> 5: <a href=\"index.php?action=show_candidates&amp;constituency_id=126\" title=\"Date of Election 16-05-2016\">OMALUR</a> <br/><br/> </div></td><td><div class=\"items\"> 6: <a href=\"index.php?action=show_candidates&amp;constituency_id=121\" title=\"Date of Election 16-05-2016\">SALEM (NORTH)</a> <br/><br/> </div></td><td><div class=\"items\"> 7: <a href=\"index.php?action=show_candidates&amp;constituency_id=120\" title=\"Date of Election 16-05-2016\">SALEM (SOUTH)</a> <br/><br/> </div></td><td><div class=\"items\"> 8: <a href=\"index.php?action=show_candidates&amp;constituency_id=122\" title=\"Date of Election 16-05-2016\">SALEM (WEST)</a> <br/><br/> </div></td></tr><tr><td><div class=\"items\"> 9: <a href=\"index.php?action=show_candidates&amp;constituency_id=123\" title=\"Date of Election 16-05-2016\">SANKARI</a> <br/><br/> </div></td><td><div class=\"items\"> 10: <a href=\"index.php?action=show_candidates&amp;constituency_id=129\" title=\"Date of Election 16-05-2016\">VEERAPANDI</a> <br/><br/> </div></td><td><div class=\"items\"> 11: <a href=\"index.php?action=show_candidates&amp;constituency_id=127\" title=\"Date of Election 16-05-2016\">YERCAUD</a> <br/><br/> </div></td><td colspan=\"1\">  </td></tr><tr><th align=\"left\" colspan=\"5\"><font color=\"#330033\" size=\"4\"><h5 class=\"title\"><a href=\"index.php?action=show_constituencies&amp;state_id=19\" style=\"text-decoration: none ;color:black \">SIVAGANGAI </a></h5></font></th></tr><tr></tr><tr><td><div class=\"items\"> 1: <a href=\"index.php?action=show_candidates&amp;constituency_id=130\" title=\"Date of Election 16-05-2016\">KARAIKUDI</a> <br/><br/> </div></td><td><div class=\"items\"> 2(a) : <a href=\"index.php?action=show_candidates&amp;constituency_id=133\" title=\"Date of Election 16-05-2016\">MANAMADURAI</a> <br/><br/>2(b):  <a href=\"https://myneta.info/tamilnadu2016/index.php?action=show_candidates&amp;constituency_id=252\">MANAMADURAI : BYE ELECTION ON 18-04-2019</a></div></td><td><div class=\"items\"> 3: <a href=\"index.php?action=show_candidates&amp;constituency_id=132\" title=\"Date of Election 16-05-2016\">SIVAGANGA</a> <br/><br/> </div></td><td><div class=\"items\"> 4: <a href=\"index.php?action=show_candidates&amp;constituency_id=131\" title=\"Date of Election 16-05-2016\">TIRUPPATTUR</a> <br/><br/> </div></td></tr><tr><th align=\"left\" colspan=\"5\"><font color=\"#330033\" size=\"4\"><h5 class=\"title\"><a href=\"index.php?action=show_constituencies&amp;state_id=20\" style=\"text-decoration: none ;color:black \">THANJAVUR </a></h5></font></th></tr><tr></tr><tr><td><div class=\"items\"> 1: <a href=\"index.php?action=show_candidates&amp;constituency_id=135\" title=\"Date of Election 16-05-2016\">KUMBAKONAM</a> <br/><br/> </div></td><td><div class=\"items\"> 2: <a href=\"index.php?action=show_candidates&amp;constituency_id=139\" title=\"Date of Election 16-05-2016\">ORATHANADU</a> <br/><br/> </div></td><td><div class=\"items\"> 3: <a href=\"index.php?action=show_candidates&amp;constituency_id=136\" title=\"Date of Election 16-05-2016\">PAPANASAM</a> <br/><br/> </div></td><td><div class=\"items\"> 4: <a href=\"index.php?action=show_candidates&amp;constituency_id=140\" title=\"Date of Election 16-05-2016\">PATTUKKOTTAI</a> <br/><br/> </div></td></tr><tr><td><div class=\"items\"> 5: <a href=\"index.php?action=show_candidates&amp;constituency_id=141\" title=\"Date of Election 16-05-2016\">PERAVURANI</a> <br/><br/> </div></td><td><div class=\"items\"> 6(a) : <a href=\"index.php?action=show_candidates&amp;constituency_id=138\" title=\"Date of Election 16-05-2016\">THANJAVUR</a> <br/><br/>6(b):  <a href=\"https://myneta.info/tamilnadu2016/index.php?action=show_candidates&amp;constituency_id=237\">THANJAVUR : BYE ELECTION ON 19-11-2016</a></div></td><td><div class=\"items\"> 7: <a href=\"index.php?action=show_candidates&amp;constituency_id=137\" title=\"Date of Election 16-05-2016\">THIRUVAIYARU</a> <br/><br/> </div></td><td><div class=\"items\"> 8: <a href=\"index.php?action=show_candidates&amp;constituency_id=134\" title=\"Date of Election 16-05-2016\">THIRUVIDAIMARUDUR</a> <br/><br/> </div></td></tr><tr><th align=\"left\" colspan=\"5\"><font color=\"#330033\" size=\"4\"><h5 class=\"title\"><a href=\"index.php?action=show_constituencies&amp;state_id=21\" style=\"text-decoration: none ;color:black \">THE NILGIRIS </a></h5></font></th></tr><tr></tr><tr><td><div class=\"items\"> 1: <a href=\"index.php?action=show_candidates&amp;constituency_id=144\" title=\"Date of Election 16-05-2016\">COONOOR</a> <br/><br/> </div></td><td><div class=\"items\"> 2: <a href=\"index.php?action=show_candidates&amp;constituency_id=143\" title=\"Date of Election 16-05-2016\">GUDALUR</a> <br/><br/> </div></td><td><div class=\"items\"> 3: <a href=\"index.php?action=show_candidates&amp;constituency_id=142\" title=\"Date of Election 16-05-2016\">UDHAGAMANDALAM</a> <br/><br/> </div></td><td colspan=\"1\">  </td></tr><tr><th align=\"left\" colspan=\"5\"><font color=\"#330033\" size=\"4\"><h5 class=\"title\"><a href=\"index.php?action=show_constituencies&amp;state_id=22\" style=\"text-decoration: none ;color:black \">THENI </a></h5></font></th></tr><tr></tr><tr><td><div class=\"items\"> 1(a) : <a href=\"index.php?action=show_candidates&amp;constituency_id=145\" title=\"Date of Election 16-05-2016\">ANDIPATTI</a> <br/><br/>1(b):  <a href=\"https://myneta.info/tamilnadu2016/index.php?action=show_candidates&amp;constituency_id=253\">ANDIPATTI : BYE ELECTION ON 18-04-2019</a></div></td><td><div class=\"items\"> 2: <a href=\"index.php?action=show_candidates&amp;constituency_id=147\" title=\"Date of Election 16-05-2016\">BODINAYAKANUR</a> <br/><br/> </div></td><td><div class=\"items\"> 3: <a href=\"index.php?action=show_candidates&amp;constituency_id=148\" title=\"Date of Election 16-05-2016\">CUMBUM</a> <br/><br/> </div></td><td><div class=\"items\"> 4(a) : <a href=\"index.php?action=show_candidates&amp;constituency_id=146\" title=\"Date of Election 16-05-2016\">PERIYAKULAM</a> <br/><br/>4(b):  <a href=\"https://myneta.info/tamilnadu2016/index.php?action=show_candidates&amp;constituency_id=255\">PERIYAKULAM : BYE ELECTION ON 18-08-2019</a></div></td></tr><tr><th align=\"left\" colspan=\"5\"><font color=\"#330033\" size=\"4\"><h5 class=\"title\"><a href=\"index.php?action=show_constituencies&amp;state_id=23\" style=\"text-decoration: none ;color:black \">THIRUVALLUR </a></h5></font></th></tr><tr></tr><tr><td><div class=\"items\"> 1: <a href=\"index.php?action=show_candidates&amp;constituency_id=151\" title=\"Date of Election 16-05-2016\">AMBATTUR</a> <br/><br/> </div></td><td><div class=\"items\"> 2: <a href=\"index.php?action=show_candidates&amp;constituency_id=153\" title=\"Date of Election 16-05-2016\">AVADI</a> <br/><br/> </div></td><td><div class=\"items\"> 3: <a href=\"index.php?action=show_candidates&amp;constituency_id=149\" title=\"Date of Election 16-05-2016\">GUMMIDIPOONDI</a> <br/><br/> </div></td><td><div class=\"items\"> 4: <a href=\"index.php?action=show_candidates&amp;constituency_id=150\" title=\"Date of Election 16-05-2016\">MADAVARAM</a> <br/><br/> </div></td></tr><tr><td><div class=\"items\"> 5: <a href=\"index.php?action=show_candidates&amp;constituency_id=152\" title=\"Date of Election 16-05-2016\">MADURAVOYAL</a> <br/><br/> </div></td><td><div class=\"items\"> 6: <a href=\"index.php?action=show_candidates&amp;constituency_id=157\" title=\"Date of Election 16-05-2016\">PONNERI</a> <br/><br/> </div></td><td><div class=\"items\"> 7(a) : <a href=\"index.php?action=show_candidates&amp;constituency_id=154\" title=\"Date of Election 16-05-2016\">POONMALLAE</a> <br/><br/>7(b):  <a href=\"https://myneta.info/tamilnadu2016/index.php?action=show_candidates&amp;constituency_id=240\">POONMALLAE : BYE ELECTION ON 18-04-2019</a></div></td><td><div class=\"items\"> 8: <a href=\"index.php?action=show_candidates&amp;constituency_id=155\" title=\"Date of Election 16-05-2016\">THIRUVALLUR</a> <br/><br/> </div></td></tr><tr><td><div class=\"items\"> 9: <a href=\"index.php?action=show_candidates&amp;constituency_id=158\" title=\"Date of Election 16-05-2016\">THIRUVOTTIYUR</a> <br/><br/> </div></td><td><div class=\"items\"> 10: <a href=\"index.php?action=show_candidates&amp;constituency_id=156\" title=\"Date of Election 16-05-2016\">TIRUTTANI</a> <br/><br/> </div></td><td colspan=\"2\">  </td></tr><tr><th align=\"left\" colspan=\"5\"><font color=\"#330033\" size=\"4\"><h5 class=\"title\"><a href=\"index.php?action=show_constituencies&amp;state_id=24\" style=\"text-decoration: none ;color:black \">THIRUVANNAMALAI </a></h5></font></th></tr><tr></tr><tr><td><div class=\"items\"> 1: <a href=\"index.php?action=show_candidates&amp;constituency_id=163\" title=\"Date of Election 16-05-2016\">ARANI</a> <br/><br/> </div></td><td><div class=\"items\"> 2: <a href=\"index.php?action=show_candidates&amp;constituency_id=159\" title=\"Date of Election 16-05-2016\">CHENGAM</a> <br/><br/> </div></td><td><div class=\"items\"> 3: <a href=\"index.php?action=show_candidates&amp;constituency_id=164\" title=\"Date of Election 16-05-2016\">CHEYYAR</a> <br/><br/> </div></td><td><div class=\"items\"> 4: <a href=\"index.php?action=show_candidates&amp;constituency_id=234\" title=\"Date of Election 16-05-2016\">KALASAPAKKAM</a> <br/><br/> </div></td></tr><tr><td><div class=\"items\"> 5: <a href=\"index.php?action=show_candidates&amp;constituency_id=160\" title=\"Date of Election 16-05-2016\">KILPENNATHUR</a> <br/><br/> </div></td><td><div class=\"items\"> 6: <a href=\"index.php?action=show_candidates&amp;constituency_id=162\" title=\"Date of Election 16-05-2016\">POLUR</a> <br/><br/> </div></td><td><div class=\"items\"> 7: <a href=\"index.php?action=show_candidates&amp;constituency_id=161\" title=\"Date of Election 16-05-2016\">TIRUVANNAMALAI</a> <br/><br/> </div></td><td><div class=\"items\"> 8: <a href=\"index.php?action=show_candidates&amp;constituency_id=165\" title=\"Date of Election 16-05-2016\">VANDAVASI</a> <br/><br/> </div></td></tr><tr><th align=\"left\" colspan=\"5\"><font color=\"#330033\" size=\"4\"><h5 class=\"title\"><a href=\"index.php?action=show_constituencies&amp;state_id=25\" style=\"text-decoration: none ;color:black \">THIRUVARUR </a></h5></font></th></tr><tr></tr><tr><td><div class=\"items\"> 1: <a href=\"index.php?action=show_candidates&amp;constituency_id=167\" title=\"Date of Election 16-05-2016\">MANNARGUDI</a> <br/><br/> </div></td><td><div class=\"items\"> 2: <a href=\"index.php?action=show_candidates&amp;constituency_id=169\" title=\"Date of Election 16-05-2016\">NANNILAM</a> <br/><br/> </div></td><td><div class=\"items\"> 3: <a href=\"index.php?action=show_candidates&amp;constituency_id=166\" title=\"Date of Election 16-05-2016\">THIRUTHURAIPOONDI</a> <br/><br/> </div></td><td><div class=\"items\"> 4(a) : <a href=\"index.php?action=show_candidates&amp;constituency_id=168\" title=\"Date of Election 16-05-2016\">THIRUVARUR</a> <br/><br/>4(b):  <a href=\"https://myneta.info/tamilnadu2016/index.php?action=show_candidates&amp;constituency_id=250\">THIRUVARUR : BYE ELECTION ON 18-04-2019</a></div></td></tr><tr><th align=\"left\" colspan=\"5\"><font color=\"#330033\" size=\"4\"><h5 class=\"title\"><a href=\"index.php?action=show_constituencies&amp;state_id=26\" style=\"text-decoration: none ;color:black \">THOOTHUKUDI </a></h5></font></th></tr><tr></tr><tr><td><div class=\"items\"> 1: <a href=\"index.php?action=show_candidates&amp;constituency_id=175\" title=\"Date of Election 16-05-2016\">KOVILPATTI</a> <br/><br/> </div></td><td><div class=\"items\"> 2(a) : <a href=\"index.php?action=show_candidates&amp;constituency_id=174\" title=\"Date of Election 16-05-2016\">OTTAPIDARAM</a> <br/><br/>2(b):  <a href=\"https://myneta.info/tamilnadu2016/index.php?action=show_candidates&amp;constituency_id=259\">OTTAPIDARAM : BYE ELECTION ON 19-05-2019</a></div></td><td><div class=\"items\"> 3: <a href=\"index.php?action=show_candidates&amp;constituency_id=173\" title=\"Date of Election 16-05-2016\">SRIVAIKUNTAM</a> <br/><br/> </div></td><td><div class=\"items\"> 4: <a href=\"index.php?action=show_candidates&amp;constituency_id=171\" title=\"Date of Election 16-05-2016\">THOOTHUKKUDI</a> <br/><br/> </div></td></tr><tr><td><div class=\"items\"> 5: <a href=\"index.php?action=show_candidates&amp;constituency_id=172\" title=\"Date of Election 16-05-2016\">TIRUCHENDUR</a> <br/><br/> </div></td><td><div class=\"items\"> 6(a) : <a href=\"index.php?action=show_candidates&amp;constituency_id=170\" title=\"Date of Election 16-05-2016\">VILATHIKULAM</a> <br/><br/>6(b):  <a href=\"https://myneta.info/tamilnadu2016/index.php?action=show_candidates&amp;constituency_id=257\">VILATHIKULAM : BYE ELECTION ON 18-04-2019</a></div></td><td colspan=\"2\">  </td></tr><tr><th align=\"left\" colspan=\"5\"><font color=\"#330033\" size=\"4\"><h5 class=\"title\"><a href=\"index.php?action=show_constituencies&amp;state_id=27\" style=\"text-decoration: none ;color:black \">TIRUCHIRAPPALLI </a></h5></font></th></tr><tr></tr><tr><td><div class=\"items\"> 1: <a href=\"index.php?action=show_candidates&amp;constituency_id=180\" title=\"Date of Election 16-05-2016\">LALGUDI</a> <br/><br/> </div></td><td><div class=\"items\"> 2: <a href=\"index.php?action=show_candidates&amp;constituency_id=179\" title=\"Date of Election 16-05-2016\">MANACHANALLUR</a> <br/><br/> </div></td><td><div class=\"items\"> 3: <a href=\"index.php?action=show_candidates&amp;constituency_id=176\" title=\"Date of Election 16-05-2016\">MANAPPARAI</a> <br/><br/> </div></td><td><div class=\"items\"> 4: <a href=\"index.php?action=show_candidates&amp;constituency_id=178\" title=\"Date of Election 16-05-2016\">MUSIRI</a> <br/><br/> </div></td></tr><tr><td><div class=\"items\"> 5: <a href=\"index.php?action=show_candidates&amp;constituency_id=184\" title=\"Date of Election 16-05-2016\">SRIRANGAM</a> <br/><br/> </div></td><td><div class=\"items\"> 6: <a href=\"index.php?action=show_candidates&amp;constituency_id=181\" title=\"Date of Election 16-05-2016\">THIRUVERUMBUR</a> <br/><br/> </div></td><td><div class=\"items\"> 7: <a href=\"index.php?action=show_candidates&amp;constituency_id=177\" title=\"Date of Election 16-05-2016\">THURAIYUR</a> <br/><br/> </div></td><td><div class=\"items\"> 8: <a href=\"index.php?action=show_candidates&amp;constituency_id=182\" title=\"Date of Election 16-05-2016\">TIRUCHIRAPPALLI (EAST)</a> <br/><br/> </div></td></tr><tr><td><div class=\"items\"> 9: <a href=\"index.php?action=show_candidates&amp;constituency_id=183\" title=\"Date of Election 16-05-2016\">TIRUCHIRAPPALLI (WEST)</a> <br/><br/> </div></td><td colspan=\"3\">  </td></tr><tr><th align=\"left\" colspan=\"5\"><font color=\"#330033\" size=\"4\"><h5 class=\"title\"><a href=\"index.php?action=show_constituencies&amp;state_id=28\" style=\"text-decoration: none ;color:black \">TIRUNELVELI </a></h5></font></th></tr><tr></tr><tr><td><div class=\"items\"> 1: <a href=\"index.php?action=show_candidates&amp;constituency_id=192\" title=\"Date of Election 16-05-2016\">ALANGULAM</a> <br/><br/> </div></td><td><div class=\"items\"> 2: <a href=\"index.php?action=show_candidates&amp;constituency_id=189\" title=\"Date of Election 16-05-2016\">AMBASAMUDRAM</a> <br/><br/> </div></td><td><div class=\"items\"> 3: <a href=\"index.php?action=show_candidates&amp;constituency_id=193\" title=\"Date of Election 16-05-2016\">KADAYANALLUR</a> <br/><br/> </div></td><td><div class=\"items\"> 4(a) : <a href=\"index.php?action=show_candidates&amp;constituency_id=187\" title=\"Date of Election 16-05-2016\">NANGUNERI</a> <br/><br/>4(b):  <a href=\"https://myneta.info/tamilnadu2016/index.php?action=show_candidates&amp;constituency_id=262\">NANGUNERI : BYE ELECTION ON 21-10-2019</a></div></td></tr><tr><td><div class=\"items\"> 5: <a href=\"index.php?action=show_candidates&amp;constituency_id=188\" title=\"Date of Election 16-05-2016\">PALAYAMKOTTAI</a> <br/><br/> </div></td><td><div class=\"items\"> 6: <a href=\"index.php?action=show_candidates&amp;constituency_id=186\" title=\"Date of Election 16-05-2016\">RADHAPURAM</a> <br/><br/> </div></td><td><div class=\"items\"> 7: <a href=\"index.php?action=show_candidates&amp;constituency_id=185\" title=\"Date of Election 16-05-2016\">SANKARANKOVIL</a> <br/><br/> </div></td><td><div class=\"items\"> 8: <a href=\"index.php?action=show_candidates&amp;constituency_id=191\" title=\"Date of Election 16-05-2016\">TENKASI</a> <br/><br/> </div></td></tr><tr><td><div class=\"items\"> 9: <a href=\"index.php?action=show_candidates&amp;constituency_id=190\" title=\"Date of Election 16-05-2016\">TIRUNELVELI</a> <br/><br/> </div></td><td><div class=\"items\"> 10: <a href=\"index.php?action=show_candidates&amp;constituency_id=194\" title=\"Date of Election 16-05-2016\">VASUDEVANALLUR</a> <br/><br/> </div></td><td colspan=\"2\">  </td></tr><tr><th align=\"left\" colspan=\"5\"><font color=\"#330033\" size=\"4\"><h5 class=\"title\"><a href=\"index.php?action=show_constituencies&amp;state_id=29\" style=\"text-decoration: none ;color:black \">TIRUPPUR </a></h5></font></th></tr><tr></tr><tr><td><div class=\"items\"> 1: <a href=\"index.php?action=show_candidates&amp;constituency_id=197\" title=\"Date of Election 16-05-2016\">AVANASHI</a> <br/><br/> </div></td><td><div class=\"items\"> 2: <a href=\"index.php?action=show_candidates&amp;constituency_id=195\" title=\"Date of Election 16-05-2016\">DHARAPURAM</a> <br/><br/> </div></td><td><div class=\"items\"> 3: <a href=\"index.php?action=show_candidates&amp;constituency_id=196\" title=\"Date of Election 16-05-2016\">KANGAYAM</a> <br/><br/> </div></td><td><div class=\"items\"> 4: <a href=\"index.php?action=show_candidates&amp;constituency_id=202\" title=\"Date of Election 16-05-2016\">MADATHUKULAM</a> <br/><br/> </div></td></tr><tr><td><div class=\"items\"> 5: <a href=\"index.php?action=show_candidates&amp;constituency_id=200\" title=\"Date of Election 16-05-2016\">PALLADAM</a> <br/><br/> </div></td><td><div class=\"items\"> 6: <a href=\"index.php?action=show_candidates&amp;constituency_id=198\" title=\"Date of Election 16-05-2016\">TIRUPPUR (NORTH)</a> <br/><br/> </div></td><td><div class=\"items\"> 7: <a href=\"index.php?action=show_candidates&amp;constituency_id=199\" title=\"Date of Election 16-05-2016\">TIRUPPUR (SOUTH)</a> <br/><br/> </div></td><td><div class=\"items\"> 8: <a href=\"index.php?action=show_candidates&amp;constituency_id=201\" title=\"Date of Election 16-05-2016\">UDUMALAIPETTAI</a> <br/><br/> </div></td></tr><tr><th align=\"left\" colspan=\"5\"><font color=\"#330033\" size=\"4\"><h5 class=\"title\"><a href=\"index.php?action=show_constituencies&amp;state_id=30\" style=\"text-decoration: none ;color:black \">VELLORE </a></h5></font></th></tr><tr></tr><tr><td><div class=\"items\"> 1(a) : <a href=\"index.php?action=show_candidates&amp;constituency_id=205\" title=\"Date of Election 16-05-2016\">AMBUR</a> <br/><br/>1(b):  <a href=\"https://myneta.info/tamilnadu2016/index.php?action=show_candidates&amp;constituency_id=245\">AMBUR : BYE ELECTION ON 18-04-2019</a></div></td><td><div class=\"items\"> 2: <a href=\"index.php?action=show_candidates&amp;constituency_id=209\" title=\"Date of Election 16-05-2016\">ANAIKATTU</a> <br/><br/> </div></td><td><div class=\"items\"> 3: <a href=\"index.php?action=show_candidates&amp;constituency_id=203\" title=\"Date of Election 16-05-2016\">ARAKKONAM</a> <br/><br/> </div></td><td><div class=\"items\"> 4: <a href=\"index.php?action=show_candidates&amp;constituency_id=211\" title=\"Date of Election 16-05-2016\">ARCOT</a> <br/><br/> </div></td></tr><tr><td><div class=\"items\"> 5(a) : <a href=\"index.php?action=show_candidates&amp;constituency_id=207\" title=\"Date of Election 16-05-2016\">GUDIYATTAM</a> <br/><br/>5(b):  <a href=\"https://myneta.info/tamilnadu2016/index.php?action=show_candidates&amp;constituency_id=244\">GUDIYATTAM : BYE ELECTION ON 18-04-2019</a></div></td><td><div class=\"items\"> 6: <a href=\"index.php?action=show_candidates&amp;constituency_id=204\" title=\"Date of Election 16-05-2016\">JOLARPET</a> <br/><br/> </div></td><td><div class=\"items\"> 7: <a href=\"index.php?action=show_candidates&amp;constituency_id=213\" title=\"Date of Election 16-05-2016\">KATPADI</a> <br/><br/> </div></td><td><div class=\"items\"> 8: <a href=\"index.php?action=show_candidates&amp;constituency_id=208\" title=\"Date of Election 16-05-2016\">KILVAITHINANKUPPAM</a> <br/><br/> </div></td></tr><tr><td><div class=\"items\"> 9: <a href=\"index.php?action=show_candidates&amp;constituency_id=212\" title=\"Date of Election 16-05-2016\">RANIPET</a> <br/><br/> </div></td><td><div class=\"items\"> 10(a) : <a href=\"index.php?action=show_candidates&amp;constituency_id=214\" title=\"Date of Election 16-05-2016\">SHOLINGUR</a> <br/><br/>10(b):  <a href=\"https://myneta.info/tamilnadu2016/index.php?action=show_candidates&amp;constituency_id=243\">SHOLINGUR : BYE ELECTION ON 18-04-2019</a></div></td><td><div class=\"items\"> 11: <a href=\"index.php?action=show_candidates&amp;constituency_id=215\" title=\"Date of Election 16-05-2016\">TIRUPATTUR</a> <br/><br/> </div></td><td><div class=\"items\"> 12: <a href=\"index.php?action=show_candidates&amp;constituency_id=206\" title=\"Date of Election 16-05-2016\">VANIYAMBADI</a> <br/><br/> </div></td></tr><tr><td><div class=\"items\"> 13: <a href=\"index.php?action=show_candidates&amp;constituency_id=210\" title=\"Date of Election 16-05-2016\">VELLORE</a> <br/><br/> </div></td><td colspan=\"3\">  </td></tr><tr><th align=\"left\" colspan=\"5\"><font color=\"#330033\" size=\"4\"><h5 class=\"title\"><a href=\"index.php?action=show_constituencies&amp;state_id=31\" style=\"text-decoration: none ;color:black \">VILLUPURAM </a></h5></font></th></tr><tr></tr><tr><td><div class=\"items\"> 1: <a href=\"index.php?action=show_candidates&amp;constituency_id=216\" title=\"Date of Election 16-05-2016\">GINGEE</a> <br/><br/> </div></td><td><div class=\"items\"> 2: <a href=\"index.php?action=show_candidates&amp;constituency_id=226\" title=\"Date of Election 16-05-2016\">KALLAKURICHI</a> <br/><br/> </div></td><td><div class=\"items\"> 3: <a href=\"index.php?action=show_candidates&amp;constituency_id=225\" title=\"Date of Election 16-05-2016\">MAILAM</a> <br/><br/> </div></td><td><div class=\"items\"> 4: <a href=\"index.php?action=show_candidates&amp;constituency_id=218\" title=\"Date of Election 16-05-2016\">RISHIVANDIYAM</a> <br/><br/> </div></td></tr><tr><td><div class=\"items\"> 5: <a href=\"index.php?action=show_candidates&amp;constituency_id=217\" title=\"Date of Election 16-05-2016\">SANKARAPURAM</a> <br/><br/> </div></td><td><div class=\"items\"> 6: <a href=\"index.php?action=show_candidates&amp;constituency_id=224\" title=\"Date of Election 16-05-2016\">TINDIVANAM</a> <br/><br/> </div></td><td><div class=\"items\"> 7: <a href=\"index.php?action=show_candidates&amp;constituency_id=220\" title=\"Date of Election 16-05-2016\">TIRUKKOYILUR</a> <br/><br/> </div></td><td><div class=\"items\"> 8: <a href=\"index.php?action=show_candidates&amp;constituency_id=219\" title=\"Date of Election 16-05-2016\">ULUNDURPETTAI</a> <br/><br/> </div></td></tr><tr><td><div class=\"items\"> 9: <a href=\"index.php?action=show_candidates&amp;constituency_id=223\" title=\"Date of Election 16-05-2016\">VANUR</a> <br/><br/> </div></td><td><div class=\"items\"> 10(a) : <a href=\"index.php?action=show_candidates&amp;constituency_id=221\" title=\"Date of Election 16-05-2016\">VIKRAVANDI</a> <br/><br/>10(b):  <a href=\"https://myneta.info/tamilnadu2016/index.php?action=show_candidates&amp;constituency_id=263\">VIKRAVANDI : BYE ELECTION ON 21-10-2019</a></div></td><td><div class=\"items\"> 11: <a href=\"index.php?action=show_candidates&amp;constituency_id=222\" title=\"Date of Election 16-05-2016\">VILLUPURAM</a> <br/><br/> </div></td><td colspan=\"1\">  </td></tr><tr><th align=\"left\" colspan=\"5\"><font color=\"#330033\" size=\"4\"><h5 class=\"title\"><a href=\"index.php?action=show_constituencies&amp;state_id=32\" style=\"text-decoration: none ;color:black \">VIRUDHUNAGAR </a></h5></font></th></tr><tr></tr><tr><td><div class=\"items\"> 1: <a href=\"index.php?action=show_candidates&amp;constituency_id=232\" title=\"Date of Election 16-05-2016\">ARUPPUKKOTTAI</a> <br/><br/> </div></td><td><div class=\"items\"> 2: <a href=\"index.php?action=show_candidates&amp;constituency_id=227\" title=\"Date of Election 16-05-2016\">RAJAPALAYAM</a> <br/><br/> </div></td><td><div class=\"items\"> 3(a) : <a href=\"index.php?action=show_candidates&amp;constituency_id=229\" title=\"Date of Election 16-05-2016\">SATTUR</a> <br/><br/>3(b):  <a href=\"https://myneta.info/tamilnadu2016/index.php?action=show_candidates&amp;constituency_id=256\">SATTUR : BYE ELECTION ON 18-04-2019</a></div></td><td><div class=\"items\"> 4: <a href=\"index.php?action=show_candidates&amp;constituency_id=230\" title=\"Date of Election 16-05-2016\">SIVAKASI</a> <br/><br/> </div></td></tr><tr><td><div class=\"items\"> 5: <a href=\"index.php?action=show_candidates&amp;constituency_id=228\" title=\"Date of Election 16-05-2016\">SRIVILLIPUTHUR</a> <br/><br/> </div></td><td><div class=\"items\"> 6: <a href=\"index.php?action=show_candidates&amp;constituency_id=233\" title=\"Date of Election 16-05-2016\">TIRUCHULI</a> <br/><br/> </div></td><td><div class=\"items\"> 7: <a href=\"index.php?action=show_candidates&amp;constituency_id=231\" title=\"Date of Election 16-05-2016\">VIRUDHUNAGAR</a> <br/><br/> </div></td><td colspan=\"1\">  </td></tr></table>\n",
       "\n",
       "\n",
       "\n",
       "\n",
       "<p> <b>Disclaimer: </b> The primary source for the data used for these reports is the sworn affidavits provided by the candidates themselves. Sheer volume of data that has to be read from the affidavits that are often poorly scanned and the lightening speed at which these reports have to be brought out makes it quite difficult to ensure accuracy of every bit of data. In case of any discrepancy in our reports vis a vis the original affidavit of any candidate, the original affidavit should be considered accurate. If you notice any discrepancies between affidavit and our report kindly let us know and we will fix them on our end as soon as possible.\n",
       "\t\t\t\t\t           </p>\n",
       "<!-- <p align=\"center\">Technology Powered by <a href=\"https://www.webrosoft.com/\" target=\"_blank\">Webrosoft</a></p> -->\n"
      ]
     },
     "execution_count": 5,
     "metadata": {},
     "output_type": "execute_result"
    }
   ],
   "source": [
    "mainpage"
   ]
  },
  {
   "cell_type": "code",
   "execution_count": 6,
   "metadata": {},
   "outputs": [],
   "source": [
    "getConst = mainpage.find_all('div', attrs={'class':'items'})"
   ]
  },
  {
   "cell_type": "code",
   "execution_count": 7,
   "metadata": {},
   "outputs": [
    {
     "data": {
      "text/plain": [
       "234"
      ]
     },
     "execution_count": 7,
     "metadata": {},
     "output_type": "execute_result"
    }
   ],
   "source": [
    "len(getConst[1:])"
   ]
  },
  {
   "cell_type": "code",
   "execution_count": 29,
   "metadata": {},
   "outputs": [
    {
     "data": {
      "text/plain": [
       "<a href=\"index.php?action=show_candidates&amp;constituency_id=1\" title=\"Date of Election 16-05-2016\">ARIYALUR</a>"
      ]
     },
     "execution_count": 29,
     "metadata": {},
     "output_type": "execute_result"
    }
   ],
   "source": [
    "test = getConst[1].contents[1]\n",
    "test"
   ]
  },
  {
   "cell_type": "code",
   "execution_count": null,
   "metadata": {},
   "outputs": [],
   "source": [
    "baseurl = \"https://myneta.info/tamilnadu2016/\"\n",
    "\n",
    "for x in getConst[1:]:\n",
    "    #print(x.contents[1].contents[0])\n",
    "    #print(baseurl+x.contents[1][\"href\"])\n",
    "    reqUrl = requests.get(baseurl+x.contents[1][\"href\"])\n",
    "    reqUrl.text[0:500]"
   ]
  },
  {
   "cell_type": "code",
   "execution_count": 13,
   "metadata": {},
   "outputs": [],
   "source": [
    "reqUrl = requests.get(\"https://myneta.info/tamilnadu2016/index.php?action=show_candidates&constituency_id=1\")\n",
    "subpage = BeautifulSoup(reqUrl.text, 'html.parser')"
   ]
  },
  {
   "cell_type": "code",
   "execution_count": 25,
   "metadata": {},
   "outputs": [
    {
     "data": {
      "text/plain": [
       "14"
      ]
     },
     "execution_count": 25,
     "metadata": {},
     "output_type": "execute_result"
    }
   ],
   "source": [
    "getCandTable = subpage.find_all('table', attrs={'id':'table1'})\n",
    "len(getCandTable[0].find_all('tr')[1:])"
   ]
  },
  {
   "cell_type": "code",
   "execution_count": 64,
   "metadata": {},
   "outputs": [
    {
     "data": {
      "text/plain": [
       "<table id=\"table1\" width=\"100%\">\n",
       "<tr>\n",
       "<th>Candidate</th><th>Party</th>\n",
       "<th align=\"center\">Criminal Cases</th>\n",
       "<th>Education</th>\n",
       "<th>Age</th>\n",
       "<th align=\"right\">Total Assets</th>\n",
       "<th align=\"right\">Liabilities</th>\n",
       "</tr>\n",
       "<tr onmouseout=\"this.style.backgroundColor='#ffffff'\" onmouseover=\"this.style.backgroundColor='skyblue'\" style=\"font-family:verdana;font-size:80%;\">\n",
       "<td><a href=\"candidate.php?candidate_id=576\">Ramajeyalingam.j.k.n</a><b>  <font color=\"green\" size=\"1\"> Winner </font></b></td>\n",
       "<td>AIADMK</td>\n",
       "<td align=\"center\" style=\"\">0</td>\n",
       "<td>Graduate</td><td>63</td>\n",
       "<td align=\"right\">Rs 1,79,37,217<br/><span style=\"color:black;font-size:70%;text-decoration:none;white-space:nowrap\"> ~ 1 Crore+</span></td>\n",
       "<td align=\"right\">Rs 10,61,121<br/><span style=\"color:black;font-size:70%;text-decoration:none;white-space:nowrap\"> ~ 10 Lacs+</span></td>\n",
       "</tr>\n",
       "<tr onmouseout=\"this.style.backgroundColor='#ffffff'\" onmouseover=\"this.style.backgroundColor='skyblue'\" style=\"font-family:verdana;font-size:80%;\">\n",
       "<td><a href=\"candidate.php?candidate_id=581\">Alangarmery.t</a><b></b></td>\n",
       "<td>IND</td>\n",
       "<td align=\"center\" style=\"\">0</td>\n",
       "<td>10th Pass</td><td>33</td>\n",
       "<td align=\"right\">Rs 5,000<br/><span style=\"color:black;font-size:70%;text-decoration:none;white-space:nowrap\"> ~ 5 Thou+</span></td>\n",
       "<td align=\"right\">Rs 0<br/><span style=\"color:black;font-size:70%;text-decoration:none;white-space:nowrap\"> ~ </span></td>\n",
       "</tr>\n",
       "<tr onmouseout=\"this.style.backgroundColor='#ffffff'\" onmouseover=\"this.style.backgroundColor='skyblue'\" style=\"font-family:verdana;font-size:80%;\">\n",
       "<td><a href=\"candidate.php?candidate_id=579\">Chinnadurai.s</a><b></b></td>\n",
       "<td>BSP</td>\n",
       "<td align=\"center\" style=\"\">0</td>\n",
       "<td>12th Pass</td><td>42</td>\n",
       "<td align=\"right\">Rs 3,10,500<br/><span style=\"color:black;font-size:70%;text-decoration:none;white-space:nowrap\"> ~ 3 Lacs+</span></td>\n",
       "<td align=\"right\">Rs 0<br/><span style=\"color:black;font-size:70%;text-decoration:none;white-space:nowrap\"> ~ </span></td>\n",
       "</tr>\n",
       "<tr onmouseout=\"this.style.backgroundColor='#ffffff'\" onmouseover=\"this.style.backgroundColor='skyblue'\" style=\"font-family:verdana;font-size:80%;\">\n",
       "<td><a href=\"candidate.php?candidate_id=322\">Guru Alias Gurunathan.j</a><b></b></td>\n",
       "<td>Pattali Makkal Katchi</td>\n",
       "<td align=\"center\" style=\"\"><span style=\"color:red;font-weight:bold;font-size:150%\"> 18 </span></td>\n",
       "<td>Post Graduate</td><td>55</td>\n",
       "<td align=\"right\">Rs 5,11,91,251<br/><span style=\"color:black;font-size:70%;text-decoration:none;white-space:nowrap\"> ~ 5 Crore+</span></td>\n",
       "<td align=\"right\">Rs 48,22,490<br/><span style=\"color:black;font-size:70%;text-decoration:none;white-space:nowrap\"> ~ 48 Lacs+</span></td>\n",
       "</tr>\n",
       "<tr onmouseout=\"this.style.backgroundColor='#ffffff'\" onmouseover=\"this.style.backgroundColor='skyblue'\" style=\"font-family:verdana;font-size:80%;\">\n",
       "<td><a href=\"candidate.php?candidate_id=583\">Irulapoo.selvakumar</a><b></b></td>\n",
       "<td>IND</td>\n",
       "<td align=\"center\" style=\"\">0</td>\n",
       "<td>10th Pass</td><td>46</td>\n",
       "<td align=\"right\">Rs 8,10,000<br/><span style=\"color:black;font-size:70%;text-decoration:none;white-space:nowrap\"> ~ 8 Lacs+</span></td>\n",
       "<td align=\"right\">Rs 0<br/><span style=\"color:black;font-size:70%;text-decoration:none;white-space:nowrap\"> ~ </span></td>\n",
       "</tr>\n",
       "<tr onmouseout=\"this.style.backgroundColor='#ffffff'\" onmouseover=\"this.style.backgroundColor='skyblue'\" style=\"font-family:verdana;font-size:80%;\">\n",
       "<td><a href=\"candidate.php?candidate_id=574\">Kandasamy.m.s</a><b></b></td>\n",
       "<td>Marumalarchi Dravida Munnetra Kazhagam</td>\n",
       "<td align=\"center\" style=\"\">0</td>\n",
       "<td>8th Pass</td><td>57</td>\n",
       "<td align=\"right\">Rs 5,33,70,041<br/><span style=\"color:black;font-size:70%;text-decoration:none;white-space:nowrap\"> ~ 5 Crore+</span></td>\n",
       "<td align=\"right\">Rs 56,20,000<br/><span style=\"color:black;font-size:70%;text-decoration:none;white-space:nowrap\"> ~ 56 Lacs+</span></td>\n",
       "</tr>\n",
       "<tr onmouseout=\"this.style.backgroundColor='#ffffff'\" onmouseover=\"this.style.backgroundColor='skyblue'\" style=\"font-family:verdana;font-size:80%;\">\n",
       "<td><a href=\"candidate.php?candidate_id=582\">Karunagaran.g</a><b></b></td>\n",
       "<td>IND</td>\n",
       "<td align=\"center\" style=\"\"><span style=\"color:red;font-weight:bold;font-size:150%\"> 1 </span></td>\n",
       "<td>10th Pass</td><td>54</td>\n",
       "<td align=\"right\">Rs 9,87,500<br/><span style=\"color:black;font-size:70%;text-decoration:none;white-space:nowrap\"> ~ 9 Lacs+</span></td>\n",
       "<td align=\"right\">Rs 87,000<br/><span style=\"color:black;font-size:70%;text-decoration:none;white-space:nowrap\"> ~ 87 Thou+</span></td>\n",
       "</tr>\n",
       "<tr onmouseout=\"this.style.backgroundColor='#ffffff'\" onmouseover=\"this.style.backgroundColor='skyblue'\" style=\"font-family:verdana;font-size:80%;\">\n",
       "<td><a href=\"candidate.php?candidate_id=577\">Krishnamoorthy.r</a><b></b></td>\n",
       "<td>Naam Tamilar Katchi</td>\n",
       "<td align=\"center\" style=\"\">0</td>\n",
       "<td>Illiterate</td><td>73</td>\n",
       "<td align=\"right\">Rs 20,43,000<br/><span style=\"color:black;font-size:70%;text-decoration:none;white-space:nowrap\"> ~ 20 Lacs+</span></td>\n",
       "<td align=\"right\">Rs 0<br/><span style=\"color:black;font-size:70%;text-decoration:none;white-space:nowrap\"> ~ </span></td>\n",
       "</tr>\n",
       "<tr onmouseout=\"this.style.backgroundColor='#ffffff'\" onmouseover=\"this.style.backgroundColor='skyblue'\" style=\"font-family:verdana;font-size:80%;\">\n",
       "<td><a href=\"candidate.php?candidate_id=580\">Krishnamoorthy.s</a><b></b></td>\n",
       "<td>BJP</td>\n",
       "<td align=\"center\" style=\"\">0</td>\n",
       "<td>10th Pass</td><td>55</td>\n",
       "<td align=\"right\">Rs 1,84,40,593<br/><span style=\"color:black;font-size:70%;text-decoration:none;white-space:nowrap\"> ~ 1 Crore+</span></td>\n",
       "<td align=\"right\">Rs 96,100<br/><span style=\"color:black;font-size:70%;text-decoration:none;white-space:nowrap\"> ~ 96 Thou+</span></td>\n",
       "</tr>\n",
       "<tr onmouseout=\"this.style.backgroundColor='#ffffff'\" onmouseover=\"this.style.backgroundColor='skyblue'\" style=\"font-family:verdana;font-size:80%;\">\n",
       "<td><a href=\"candidate.php?candidate_id=575\">Mahesh.c</a><b></b></td>\n",
       "<td>IND</td>\n",
       "<td align=\"center\" style=\"\">0</td>\n",
       "<td>Graduate</td><td>35</td>\n",
       "<td align=\"right\">Rs 1,53,225<br/><span style=\"color:black;font-size:70%;text-decoration:none;white-space:nowrap\"> ~ 1 Lacs+</span></td>\n",
       "<td align=\"right\">Rs 0<br/><span style=\"color:black;font-size:70%;text-decoration:none;white-space:nowrap\"> ~ </span></td>\n",
       "</tr>\n",
       "<tr onmouseout=\"this.style.backgroundColor='#ffffff'\" onmouseover=\"this.style.backgroundColor='skyblue'\" style=\"font-family:verdana;font-size:80%;\">\n",
       "<td><a href=\"candidate.php?candidate_id=323\">Rajendran.g</a><b></b></td>\n",
       "<td>INC</td>\n",
       "<td align=\"center\" style=\"\">0</td>\n",
       "<td>12th Pass</td><td>60</td>\n",
       "<td align=\"right\">Rs 2,47,63,962<br/><span style=\"color:black;font-size:70%;text-decoration:none;white-space:nowrap\"> ~ 2 Crore+</span></td>\n",
       "<td align=\"right\">Rs 1,63,09,597<br/><span style=\"color:black;font-size:70%;text-decoration:none;white-space:nowrap\"> ~ 1 Crore+</span></td>\n",
       "</tr>\n",
       "<tr onmouseout=\"this.style.backgroundColor='#ffffff'\" onmouseover=\"this.style.backgroundColor='skyblue'\" style=\"font-family:verdana;font-size:80%;\">\n",
       "<td><a href=\"candidate.php?candidate_id=584\">Selvamani.p</a><b></b></td>\n",
       "<td>IND</td>\n",
       "<td align=\"center\" style=\"\">0</td>\n",
       "<td>Graduate Professional</td><td>34</td>\n",
       "<td align=\"right\">Rs 2,50,000<br/><span style=\"color:black;font-size:70%;text-decoration:none;white-space:nowrap\"> ~ 2 Lacs+</span></td>\n",
       "<td align=\"right\">Rs 0<br/><span style=\"color:black;font-size:70%;text-decoration:none;white-space:nowrap\"> ~ </span></td>\n",
       "</tr>\n",
       "<tr onmouseout=\"this.style.backgroundColor='#ffffff'\" onmouseover=\"this.style.backgroundColor='skyblue'\" style=\"font-family:verdana;font-size:80%;\">\n",
       "<td><a href=\"candidate.php?candidate_id=578\">Ulaganathan.n</a><b></b></td>\n",
       "<td>NCP</td>\n",
       "<td align=\"center\" style=\"\">0</td>\n",
       "<td>Graduate Professional</td><td>61</td>\n",
       "<td align=\"right\">Rs 1,68,000<br/><span style=\"color:black;font-size:70%;text-decoration:none;white-space:nowrap\"> ~ 1 Lacs+</span></td>\n",
       "<td align=\"right\">Rs 0<br/><span style=\"color:black;font-size:70%;text-decoration:none;white-space:nowrap\"> ~ </span></td>\n",
       "</tr>\n",
       "</table>"
      ]
     },
     "execution_count": 64,
     "metadata": {},
     "output_type": "execute_result"
    }
   ],
   "source": [
    "getCandTable[0]"
   ]
  },
  {
   "cell_type": "code",
   "execution_count": 89,
   "metadata": {},
   "outputs": [
    {
     "data": {
      "text/plain": [
       "14"
      ]
     },
     "execution_count": 89,
     "metadata": {},
     "output_type": "execute_result"
    }
   ],
   "source": [
    "#name = getCandTable[0].find_all('tr')[1:][0].contents[1].contents[0].contents[0]\n",
    "len()"
   ]
  },
  {
   "cell_type": "code",
   "execution_count": 155,
   "metadata": {},
   "outputs": [],
   "source": [
    "#partyname = getCandTable[0].find_all('tr')[1:][0].contents[3].contents[0]\n",
    "#criminalcase = getCandTable[0].find_all('tr')[1:][0].contents[5].contents[0].contents[0]\n",
    "#education = getCandTable[0].find_all('tr')[1:][0].contents[7].contents[0]\n",
    "#age = getCandTable[0].find_all('tr')[1:][0].contents[8].contents[0]\n",
    "#totalAssets = getCandTable[0].find_all('tr')[1:][0].contents[10].contents[0]\n",
    "#liabilities = getCandTable[0].find_all('tr')[1:][0].contents[12].contents[0]\n",
    "records = []"
   ]
  },
  {
   "cell_type": "code",
   "execution_count": 157,
   "metadata": {},
   "outputs": [
    {
     "name": "stdout",
     "output_type": "stream",
     "text": [
      "https://myneta.info/tamilnadu2016/index.php?action=show_candidates&constituency_id=1\n",
      "https://myneta.info/tamilnadu2016/index.php?action=show_candidates&constituency_id=2\n",
      "https://myneta.info/tamilnadu2016/index.php?action=show_candidates&constituency_id=3\n",
      "https://myneta.info/tamilnadu2016/index.php?action=show_candidates&constituency_id=4\n",
      "https://myneta.info/tamilnadu2016/index.php?action=show_candidates&constituency_id=5\n",
      "https://myneta.info/tamilnadu2016/index.php?action=show_candidates&constituency_id=6\n",
      "https://myneta.info/tamilnadu2016/index.php?action=show_candidates&constituency_id=7\n",
      "https://myneta.info/tamilnadu2016/index.php?action=show_candidates&constituency_id=8\n",
      "https://myneta.info/tamilnadu2016/index.php?action=show_candidates&constituency_id=9\n",
      "https://myneta.info/tamilnadu2016/index.php?action=show_candidates&constituency_id=10\n",
      "https://myneta.info/tamilnadu2016/index.php?action=show_candidates&constituency_id=11\n",
      "https://myneta.info/tamilnadu2016/index.php?action=show_candidates&constituency_id=12\n",
      "https://myneta.info/tamilnadu2016/index.php?action=show_candidates&constituency_id=13\n",
      "https://myneta.info/tamilnadu2016/index.php?action=show_candidates&constituency_id=14\n",
      "https://myneta.info/tamilnadu2016/index.php?action=show_candidates&constituency_id=15\n",
      "https://myneta.info/tamilnadu2016/index.php?action=show_candidates&constituency_id=16\n",
      "https://myneta.info/tamilnadu2016/index.php?action=show_candidates&constituency_id=17\n",
      "https://myneta.info/tamilnadu2016/index.php?action=show_candidates&constituency_id=18\n",
      "https://myneta.info/tamilnadu2016/index.php?action=show_candidates&constituency_id=19\n",
      "https://myneta.info/tamilnadu2016/index.php?action=show_candidates&constituency_id=20\n",
      "https://myneta.info/tamilnadu2016/index.php?action=show_candidates&constituency_id=21\n",
      "https://myneta.info/tamilnadu2016/index.php?action=show_candidates&constituency_id=22\n",
      "https://myneta.info/tamilnadu2016/index.php?action=show_candidates&constituency_id=23\n",
      "https://myneta.info/tamilnadu2016/index.php?action=show_candidates&constituency_id=24\n",
      "https://myneta.info/tamilnadu2016/index.php?action=show_candidates&constituency_id=25\n",
      "https://myneta.info/tamilnadu2016/index.php?action=show_candidates&constituency_id=26\n",
      "https://myneta.info/tamilnadu2016/index.php?action=show_candidates&constituency_id=27\n",
      "https://myneta.info/tamilnadu2016/index.php?action=show_candidates&constituency_id=28\n",
      "https://myneta.info/tamilnadu2016/index.php?action=show_candidates&constituency_id=29\n",
      "https://myneta.info/tamilnadu2016/index.php?action=show_candidates&constituency_id=30\n",
      "https://myneta.info/tamilnadu2016/index.php?action=show_candidates&constituency_id=31\n",
      "https://myneta.info/tamilnadu2016/index.php?action=show_candidates&constituency_id=32\n",
      "https://myneta.info/tamilnadu2016/index.php?action=show_candidates&constituency_id=33\n",
      "https://myneta.info/tamilnadu2016/index.php?action=show_candidates&constituency_id=34\n",
      "https://myneta.info/tamilnadu2016/index.php?action=show_candidates&constituency_id=35\n",
      "https://myneta.info/tamilnadu2016/index.php?action=show_candidates&constituency_id=36\n",
      "https://myneta.info/tamilnadu2016/index.php?action=show_candidates&constituency_id=37\n",
      "https://myneta.info/tamilnadu2016/index.php?action=show_candidates&constituency_id=38\n",
      "https://myneta.info/tamilnadu2016/index.php?action=show_candidates&constituency_id=39\n",
      "https://myneta.info/tamilnadu2016/index.php?action=show_candidates&constituency_id=40\n",
      "https://myneta.info/tamilnadu2016/index.php?action=show_candidates&constituency_id=41\n",
      "https://myneta.info/tamilnadu2016/index.php?action=show_candidates&constituency_id=42\n",
      "https://myneta.info/tamilnadu2016/index.php?action=show_candidates&constituency_id=43\n",
      "https://myneta.info/tamilnadu2016/index.php?action=show_candidates&constituency_id=44\n",
      "https://myneta.info/tamilnadu2016/index.php?action=show_candidates&constituency_id=45\n",
      "https://myneta.info/tamilnadu2016/index.php?action=show_candidates&constituency_id=46\n",
      "https://myneta.info/tamilnadu2016/index.php?action=show_candidates&constituency_id=47\n",
      "https://myneta.info/tamilnadu2016/index.php?action=show_candidates&constituency_id=48\n",
      "https://myneta.info/tamilnadu2016/index.php?action=show_candidates&constituency_id=49\n",
      "https://myneta.info/tamilnadu2016/index.php?action=show_candidates&constituency_id=50\n",
      "https://myneta.info/tamilnadu2016/index.php?action=show_candidates&constituency_id=51\n",
      "https://myneta.info/tamilnadu2016/index.php?action=show_candidates&constituency_id=52\n",
      "https://myneta.info/tamilnadu2016/index.php?action=show_candidates&constituency_id=53\n",
      "https://myneta.info/tamilnadu2016/index.php?action=show_candidates&constituency_id=54\n",
      "https://myneta.info/tamilnadu2016/index.php?action=show_candidates&constituency_id=55\n",
      "https://myneta.info/tamilnadu2016/index.php?action=show_candidates&constituency_id=56\n",
      "https://myneta.info/tamilnadu2016/index.php?action=show_candidates&constituency_id=57\n",
      "https://myneta.info/tamilnadu2016/index.php?action=show_candidates&constituency_id=58\n",
      "https://myneta.info/tamilnadu2016/index.php?action=show_candidates&constituency_id=59\n",
      "https://myneta.info/tamilnadu2016/index.php?action=show_candidates&constituency_id=60\n",
      "https://myneta.info/tamilnadu2016/index.php?action=show_candidates&constituency_id=61\n",
      "https://myneta.info/tamilnadu2016/index.php?action=show_candidates&constituency_id=62\n",
      "https://myneta.info/tamilnadu2016/index.php?action=show_candidates&constituency_id=63\n",
      "https://myneta.info/tamilnadu2016/index.php?action=show_candidates&constituency_id=64\n",
      "https://myneta.info/tamilnadu2016/index.php?action=show_candidates&constituency_id=65\n",
      "https://myneta.info/tamilnadu2016/index.php?action=show_candidates&constituency_id=66\n",
      "https://myneta.info/tamilnadu2016/index.php?action=show_candidates&constituency_id=67\n",
      "https://myneta.info/tamilnadu2016/index.php?action=show_candidates&constituency_id=68\n",
      "https://myneta.info/tamilnadu2016/index.php?action=show_candidates&constituency_id=69\n",
      "https://myneta.info/tamilnadu2016/index.php?action=show_candidates&constituency_id=70\n",
      "https://myneta.info/tamilnadu2016/index.php?action=show_candidates&constituency_id=71\n",
      "https://myneta.info/tamilnadu2016/index.php?action=show_candidates&constituency_id=72\n",
      "https://myneta.info/tamilnadu2016/index.php?action=show_candidates&constituency_id=73\n",
      "https://myneta.info/tamilnadu2016/index.php?action=show_candidates&constituency_id=74\n",
      "https://myneta.info/tamilnadu2016/index.php?action=show_candidates&constituency_id=75\n",
      "https://myneta.info/tamilnadu2016/index.php?action=show_candidates&constituency_id=76\n",
      "https://myneta.info/tamilnadu2016/index.php?action=show_candidates&constituency_id=77\n",
      "https://myneta.info/tamilnadu2016/index.php?action=show_candidates&constituency_id=78\n",
      "https://myneta.info/tamilnadu2016/index.php?action=show_candidates&constituency_id=79\n"
     ]
    },
    {
     "ename": "IndexError",
     "evalue": "list index out of range",
     "output_type": "error",
     "traceback": [
      "\u001b[1;31m---------------------------------------------------------------------------\u001b[0m",
      "\u001b[1;31mIndexError\u001b[0m                                Traceback (most recent call last)",
      "\u001b[1;32m<ipython-input-157-eebb0ebe0c47>\u001b[0m in \u001b[0;36m<module>\u001b[1;34m\u001b[0m\n\u001b[0;32m      5\u001b[0m     \u001b[0msubpage\u001b[0m \u001b[1;33m=\u001b[0m \u001b[0mBeautifulSoup\u001b[0m\u001b[1;33m(\u001b[0m\u001b[0mreqUrl\u001b[0m\u001b[1;33m.\u001b[0m\u001b[0mtext\u001b[0m\u001b[1;33m,\u001b[0m \u001b[1;34m'html.parser'\u001b[0m\u001b[1;33m)\u001b[0m\u001b[1;33m\u001b[0m\u001b[1;33m\u001b[0m\u001b[0m\n\u001b[0;32m      6\u001b[0m     \u001b[0mgetCandTable\u001b[0m \u001b[1;33m=\u001b[0m \u001b[0msubpage\u001b[0m\u001b[1;33m.\u001b[0m\u001b[0mfind_all\u001b[0m\u001b[1;33m(\u001b[0m\u001b[1;34m'table'\u001b[0m\u001b[1;33m,\u001b[0m \u001b[0mattrs\u001b[0m\u001b[1;33m=\u001b[0m\u001b[1;33m{\u001b[0m\u001b[1;34m'id'\u001b[0m\u001b[1;33m:\u001b[0m\u001b[1;34m'table1'\u001b[0m\u001b[1;33m}\u001b[0m\u001b[1;33m)\u001b[0m\u001b[1;33m\u001b[0m\u001b[1;33m\u001b[0m\u001b[0m\n\u001b[1;32m----> 7\u001b[1;33m     \u001b[0mgetAllTrs\u001b[0m \u001b[1;33m=\u001b[0m \u001b[0mgetCandTable\u001b[0m\u001b[1;33m[\u001b[0m\u001b[1;36m0\u001b[0m\u001b[1;33m]\u001b[0m\u001b[1;33m.\u001b[0m\u001b[0mfind_all\u001b[0m\u001b[1;33m(\u001b[0m\u001b[1;34m'tr'\u001b[0m\u001b[1;33m)\u001b[0m\u001b[1;33m[\u001b[0m\u001b[1;36m1\u001b[0m\u001b[1;33m:\u001b[0m\u001b[1;33m]\u001b[0m\u001b[1;33m\u001b[0m\u001b[1;33m\u001b[0m\u001b[0m\n\u001b[0m\u001b[0;32m      8\u001b[0m     \u001b[1;32mfor\u001b[0m \u001b[0mrow\u001b[0m \u001b[1;32min\u001b[0m \u001b[0mgetAllTrs\u001b[0m\u001b[1;33m:\u001b[0m\u001b[1;33m\u001b[0m\u001b[1;33m\u001b[0m\u001b[0m\n\u001b[0;32m      9\u001b[0m         \u001b[0mconstno\u001b[0m\u001b[1;33m=\u001b[0m\u001b[0mconstid\u001b[0m\u001b[1;33m\u001b[0m\u001b[1;33m\u001b[0m\u001b[0m\n",
      "\u001b[1;31mIndexError\u001b[0m: list index out of range"
     ]
    }
   ],
   "source": [
    "base_url = \"https://myneta.info/tamilnadu2016/index.php?action=show_candidates&constituency_id=\"\n",
    "for constid in range(1,80):\n",
    "    print(base_url+str(constid))\n",
    "    reqUrl = requests.get(base_url+str(constid))\n",
    "    subpage = BeautifulSoup(reqUrl.text, 'html.parser')\n",
    "    getCandTable = subpage.find_all('table', attrs={'id':'table1'})\n",
    "    getAllTrs = getCandTable[0].find_all('tr')[1:]\n",
    "    for row in getAllTrs:\n",
    "        constno=constid\n",
    "        candname = row.contents[1].contents[0].contents[0]\n",
    "        partyname = row.contents[3].contents[0]\n",
    "        criminalcase = row.contents[5].contents[0]\n",
    "        education = row.contents[7].contents[0]\n",
    "        age = row.contents[8].contents[0]\n",
    "        totalAssets = row.contents[10].contents[0]\n",
    "        liabilities = row.contents[12].contents[0]\n",
    "        records.append((constno, candname, partyname, criminalcase, education, age, totalAssets, liabilities))   "
   ]
  },
  {
   "cell_type": "code",
   "execution_count": 158,
   "metadata": {},
   "outputs": [],
   "source": [
    "records2=[]"
   ]
  },
  {
   "cell_type": "code",
   "execution_count": 159,
   "metadata": {},
   "outputs": [
    {
     "name": "stdout",
     "output_type": "stream",
     "text": [
      "https://myneta.info/tamilnadu2016/index.php?action=show_candidates&constituency_id=80\n",
      "https://myneta.info/tamilnadu2016/index.php?action=show_candidates&constituency_id=81\n",
      "https://myneta.info/tamilnadu2016/index.php?action=show_candidates&constituency_id=82\n",
      "https://myneta.info/tamilnadu2016/index.php?action=show_candidates&constituency_id=83\n",
      "https://myneta.info/tamilnadu2016/index.php?action=show_candidates&constituency_id=84\n",
      "https://myneta.info/tamilnadu2016/index.php?action=show_candidates&constituency_id=85\n",
      "https://myneta.info/tamilnadu2016/index.php?action=show_candidates&constituency_id=86\n",
      "https://myneta.info/tamilnadu2016/index.php?action=show_candidates&constituency_id=87\n",
      "https://myneta.info/tamilnadu2016/index.php?action=show_candidates&constituency_id=88\n",
      "https://myneta.info/tamilnadu2016/index.php?action=show_candidates&constituency_id=89\n",
      "https://myneta.info/tamilnadu2016/index.php?action=show_candidates&constituency_id=90\n",
      "https://myneta.info/tamilnadu2016/index.php?action=show_candidates&constituency_id=91\n",
      "https://myneta.info/tamilnadu2016/index.php?action=show_candidates&constituency_id=92\n",
      "https://myneta.info/tamilnadu2016/index.php?action=show_candidates&constituency_id=93\n",
      "https://myneta.info/tamilnadu2016/index.php?action=show_candidates&constituency_id=94\n",
      "https://myneta.info/tamilnadu2016/index.php?action=show_candidates&constituency_id=95\n",
      "https://myneta.info/tamilnadu2016/index.php?action=show_candidates&constituency_id=96\n",
      "https://myneta.info/tamilnadu2016/index.php?action=show_candidates&constituency_id=97\n",
      "https://myneta.info/tamilnadu2016/index.php?action=show_candidates&constituency_id=98\n",
      "https://myneta.info/tamilnadu2016/index.php?action=show_candidates&constituency_id=99\n",
      "https://myneta.info/tamilnadu2016/index.php?action=show_candidates&constituency_id=100\n",
      "https://myneta.info/tamilnadu2016/index.php?action=show_candidates&constituency_id=101\n",
      "https://myneta.info/tamilnadu2016/index.php?action=show_candidates&constituency_id=102\n",
      "https://myneta.info/tamilnadu2016/index.php?action=show_candidates&constituency_id=103\n",
      "https://myneta.info/tamilnadu2016/index.php?action=show_candidates&constituency_id=104\n",
      "https://myneta.info/tamilnadu2016/index.php?action=show_candidates&constituency_id=105\n",
      "https://myneta.info/tamilnadu2016/index.php?action=show_candidates&constituency_id=106\n",
      "https://myneta.info/tamilnadu2016/index.php?action=show_candidates&constituency_id=107\n",
      "https://myneta.info/tamilnadu2016/index.php?action=show_candidates&constituency_id=108\n",
      "https://myneta.info/tamilnadu2016/index.php?action=show_candidates&constituency_id=109\n",
      "https://myneta.info/tamilnadu2016/index.php?action=show_candidates&constituency_id=110\n",
      "https://myneta.info/tamilnadu2016/index.php?action=show_candidates&constituency_id=111\n",
      "https://myneta.info/tamilnadu2016/index.php?action=show_candidates&constituency_id=112\n",
      "https://myneta.info/tamilnadu2016/index.php?action=show_candidates&constituency_id=113\n",
      "https://myneta.info/tamilnadu2016/index.php?action=show_candidates&constituency_id=114\n",
      "https://myneta.info/tamilnadu2016/index.php?action=show_candidates&constituency_id=115\n",
      "https://myneta.info/tamilnadu2016/index.php?action=show_candidates&constituency_id=116\n",
      "https://myneta.info/tamilnadu2016/index.php?action=show_candidates&constituency_id=117\n",
      "https://myneta.info/tamilnadu2016/index.php?action=show_candidates&constituency_id=118\n",
      "https://myneta.info/tamilnadu2016/index.php?action=show_candidates&constituency_id=119\n",
      "https://myneta.info/tamilnadu2016/index.php?action=show_candidates&constituency_id=120\n",
      "https://myneta.info/tamilnadu2016/index.php?action=show_candidates&constituency_id=121\n",
      "https://myneta.info/tamilnadu2016/index.php?action=show_candidates&constituency_id=122\n",
      "https://myneta.info/tamilnadu2016/index.php?action=show_candidates&constituency_id=123\n",
      "https://myneta.info/tamilnadu2016/index.php?action=show_candidates&constituency_id=124\n",
      "https://myneta.info/tamilnadu2016/index.php?action=show_candidates&constituency_id=125\n",
      "https://myneta.info/tamilnadu2016/index.php?action=show_candidates&constituency_id=126\n",
      "https://myneta.info/tamilnadu2016/index.php?action=show_candidates&constituency_id=127\n",
      "https://myneta.info/tamilnadu2016/index.php?action=show_candidates&constituency_id=128\n",
      "https://myneta.info/tamilnadu2016/index.php?action=show_candidates&constituency_id=129\n",
      "https://myneta.info/tamilnadu2016/index.php?action=show_candidates&constituency_id=130\n",
      "https://myneta.info/tamilnadu2016/index.php?action=show_candidates&constituency_id=131\n",
      "https://myneta.info/tamilnadu2016/index.php?action=show_candidates&constituency_id=132\n",
      "https://myneta.info/tamilnadu2016/index.php?action=show_candidates&constituency_id=133\n",
      "https://myneta.info/tamilnadu2016/index.php?action=show_candidates&constituency_id=134\n",
      "https://myneta.info/tamilnadu2016/index.php?action=show_candidates&constituency_id=135\n",
      "https://myneta.info/tamilnadu2016/index.php?action=show_candidates&constituency_id=136\n",
      "https://myneta.info/tamilnadu2016/index.php?action=show_candidates&constituency_id=137\n",
      "https://myneta.info/tamilnadu2016/index.php?action=show_candidates&constituency_id=138\n",
      "https://myneta.info/tamilnadu2016/index.php?action=show_candidates&constituency_id=139\n",
      "https://myneta.info/tamilnadu2016/index.php?action=show_candidates&constituency_id=140\n",
      "https://myneta.info/tamilnadu2016/index.php?action=show_candidates&constituency_id=141\n",
      "https://myneta.info/tamilnadu2016/index.php?action=show_candidates&constituency_id=142\n",
      "https://myneta.info/tamilnadu2016/index.php?action=show_candidates&constituency_id=143\n",
      "https://myneta.info/tamilnadu2016/index.php?action=show_candidates&constituency_id=144\n",
      "https://myneta.info/tamilnadu2016/index.php?action=show_candidates&constituency_id=145\n",
      "https://myneta.info/tamilnadu2016/index.php?action=show_candidates&constituency_id=146\n",
      "https://myneta.info/tamilnadu2016/index.php?action=show_candidates&constituency_id=147\n",
      "https://myneta.info/tamilnadu2016/index.php?action=show_candidates&constituency_id=148\n",
      "https://myneta.info/tamilnadu2016/index.php?action=show_candidates&constituency_id=149\n",
      "https://myneta.info/tamilnadu2016/index.php?action=show_candidates&constituency_id=150\n",
      "https://myneta.info/tamilnadu2016/index.php?action=show_candidates&constituency_id=151\n",
      "https://myneta.info/tamilnadu2016/index.php?action=show_candidates&constituency_id=152\n",
      "https://myneta.info/tamilnadu2016/index.php?action=show_candidates&constituency_id=153\n",
      "https://myneta.info/tamilnadu2016/index.php?action=show_candidates&constituency_id=154\n",
      "https://myneta.info/tamilnadu2016/index.php?action=show_candidates&constituency_id=155\n",
      "https://myneta.info/tamilnadu2016/index.php?action=show_candidates&constituency_id=156\n",
      "https://myneta.info/tamilnadu2016/index.php?action=show_candidates&constituency_id=157\n",
      "https://myneta.info/tamilnadu2016/index.php?action=show_candidates&constituency_id=158\n",
      "https://myneta.info/tamilnadu2016/index.php?action=show_candidates&constituency_id=159\n",
      "https://myneta.info/tamilnadu2016/index.php?action=show_candidates&constituency_id=160\n",
      "https://myneta.info/tamilnadu2016/index.php?action=show_candidates&constituency_id=161\n",
      "https://myneta.info/tamilnadu2016/index.php?action=show_candidates&constituency_id=162\n",
      "https://myneta.info/tamilnadu2016/index.php?action=show_candidates&constituency_id=163\n",
      "https://myneta.info/tamilnadu2016/index.php?action=show_candidates&constituency_id=164\n",
      "https://myneta.info/tamilnadu2016/index.php?action=show_candidates&constituency_id=165\n",
      "https://myneta.info/tamilnadu2016/index.php?action=show_candidates&constituency_id=166\n",
      "https://myneta.info/tamilnadu2016/index.php?action=show_candidates&constituency_id=167\n",
      "https://myneta.info/tamilnadu2016/index.php?action=show_candidates&constituency_id=168\n",
      "https://myneta.info/tamilnadu2016/index.php?action=show_candidates&constituency_id=169\n",
      "https://myneta.info/tamilnadu2016/index.php?action=show_candidates&constituency_id=170\n",
      "https://myneta.info/tamilnadu2016/index.php?action=show_candidates&constituency_id=171\n",
      "https://myneta.info/tamilnadu2016/index.php?action=show_candidates&constituency_id=172\n",
      "https://myneta.info/tamilnadu2016/index.php?action=show_candidates&constituency_id=173\n",
      "https://myneta.info/tamilnadu2016/index.php?action=show_candidates&constituency_id=174\n"
     ]
    },
    {
     "name": "stdout",
     "output_type": "stream",
     "text": [
      "https://myneta.info/tamilnadu2016/index.php?action=show_candidates&constituency_id=175\n",
      "https://myneta.info/tamilnadu2016/index.php?action=show_candidates&constituency_id=176\n",
      "https://myneta.info/tamilnadu2016/index.php?action=show_candidates&constituency_id=177\n",
      "https://myneta.info/tamilnadu2016/index.php?action=show_candidates&constituency_id=178\n",
      "https://myneta.info/tamilnadu2016/index.php?action=show_candidates&constituency_id=179\n",
      "https://myneta.info/tamilnadu2016/index.php?action=show_candidates&constituency_id=180\n",
      "https://myneta.info/tamilnadu2016/index.php?action=show_candidates&constituency_id=181\n",
      "https://myneta.info/tamilnadu2016/index.php?action=show_candidates&constituency_id=182\n",
      "https://myneta.info/tamilnadu2016/index.php?action=show_candidates&constituency_id=183\n",
      "https://myneta.info/tamilnadu2016/index.php?action=show_candidates&constituency_id=184\n",
      "https://myneta.info/tamilnadu2016/index.php?action=show_candidates&constituency_id=185\n",
      "https://myneta.info/tamilnadu2016/index.php?action=show_candidates&constituency_id=186\n",
      "https://myneta.info/tamilnadu2016/index.php?action=show_candidates&constituency_id=187\n",
      "https://myneta.info/tamilnadu2016/index.php?action=show_candidates&constituency_id=188\n",
      "https://myneta.info/tamilnadu2016/index.php?action=show_candidates&constituency_id=189\n",
      "https://myneta.info/tamilnadu2016/index.php?action=show_candidates&constituency_id=190\n",
      "https://myneta.info/tamilnadu2016/index.php?action=show_candidates&constituency_id=191\n",
      "https://myneta.info/tamilnadu2016/index.php?action=show_candidates&constituency_id=192\n",
      "https://myneta.info/tamilnadu2016/index.php?action=show_candidates&constituency_id=193\n",
      "https://myneta.info/tamilnadu2016/index.php?action=show_candidates&constituency_id=194\n",
      "https://myneta.info/tamilnadu2016/index.php?action=show_candidates&constituency_id=195\n",
      "https://myneta.info/tamilnadu2016/index.php?action=show_candidates&constituency_id=196\n",
      "https://myneta.info/tamilnadu2016/index.php?action=show_candidates&constituency_id=197\n",
      "https://myneta.info/tamilnadu2016/index.php?action=show_candidates&constituency_id=198\n",
      "https://myneta.info/tamilnadu2016/index.php?action=show_candidates&constituency_id=199\n",
      "https://myneta.info/tamilnadu2016/index.php?action=show_candidates&constituency_id=200\n"
     ]
    },
    {
     "ename": "IndexError",
     "evalue": "list index out of range",
     "output_type": "error",
     "traceback": [
      "\u001b[1;31m---------------------------------------------------------------------------\u001b[0m",
      "\u001b[1;31mIndexError\u001b[0m                                Traceback (most recent call last)",
      "\u001b[1;32m<ipython-input-159-a5f7402a8cb6>\u001b[0m in \u001b[0;36m<module>\u001b[1;34m\u001b[0m\n\u001b[0;32m      5\u001b[0m     \u001b[0msubpage\u001b[0m \u001b[1;33m=\u001b[0m \u001b[0mBeautifulSoup\u001b[0m\u001b[1;33m(\u001b[0m\u001b[0mreqUrl\u001b[0m\u001b[1;33m.\u001b[0m\u001b[0mtext\u001b[0m\u001b[1;33m,\u001b[0m \u001b[1;34m'html.parser'\u001b[0m\u001b[1;33m)\u001b[0m\u001b[1;33m\u001b[0m\u001b[1;33m\u001b[0m\u001b[0m\n\u001b[0;32m      6\u001b[0m     \u001b[0mgetCandTable\u001b[0m \u001b[1;33m=\u001b[0m \u001b[0msubpage\u001b[0m\u001b[1;33m.\u001b[0m\u001b[0mfind_all\u001b[0m\u001b[1;33m(\u001b[0m\u001b[1;34m'table'\u001b[0m\u001b[1;33m,\u001b[0m \u001b[0mattrs\u001b[0m\u001b[1;33m=\u001b[0m\u001b[1;33m{\u001b[0m\u001b[1;34m'id'\u001b[0m\u001b[1;33m:\u001b[0m\u001b[1;34m'table1'\u001b[0m\u001b[1;33m}\u001b[0m\u001b[1;33m)\u001b[0m\u001b[1;33m\u001b[0m\u001b[1;33m\u001b[0m\u001b[0m\n\u001b[1;32m----> 7\u001b[1;33m     \u001b[0mgetAllTrs\u001b[0m \u001b[1;33m=\u001b[0m \u001b[0mgetCandTable\u001b[0m\u001b[1;33m[\u001b[0m\u001b[1;36m0\u001b[0m\u001b[1;33m]\u001b[0m\u001b[1;33m.\u001b[0m\u001b[0mfind_all\u001b[0m\u001b[1;33m(\u001b[0m\u001b[1;34m'tr'\u001b[0m\u001b[1;33m)\u001b[0m\u001b[1;33m[\u001b[0m\u001b[1;36m1\u001b[0m\u001b[1;33m:\u001b[0m\u001b[1;33m]\u001b[0m\u001b[1;33m\u001b[0m\u001b[1;33m\u001b[0m\u001b[0m\n\u001b[0m\u001b[0;32m      8\u001b[0m     \u001b[1;32mfor\u001b[0m \u001b[0mrow\u001b[0m \u001b[1;32min\u001b[0m \u001b[0mgetAllTrs\u001b[0m\u001b[1;33m:\u001b[0m\u001b[1;33m\u001b[0m\u001b[1;33m\u001b[0m\u001b[0m\n\u001b[0;32m      9\u001b[0m         \u001b[0mconstno\u001b[0m\u001b[1;33m=\u001b[0m\u001b[0mconstid\u001b[0m\u001b[1;33m\u001b[0m\u001b[1;33m\u001b[0m\u001b[0m\n",
      "\u001b[1;31mIndexError\u001b[0m: list index out of range"
     ]
    }
   ],
   "source": [
    "base_url = \"https://myneta.info/tamilnadu2016/index.php?action=show_candidates&constituency_id=\"\n",
    "for constid in range(80,244):\n",
    "    print(base_url+str(constid))\n",
    "    reqUrl = requests.get(base_url+str(constid))\n",
    "    subpage = BeautifulSoup(reqUrl.text, 'html.parser')\n",
    "    getCandTable = subpage.find_all('table', attrs={'id':'table1'})\n",
    "    getAllTrs = getCandTable[0].find_all('tr')[1:]\n",
    "    for row in getAllTrs:\n",
    "        constno=constid\n",
    "        candname = row.contents[1].contents[0].contents[0]\n",
    "        partyname = row.contents[3].contents[0]\n",
    "        criminalcase = row.contents[5].contents[0]\n",
    "        education = row.contents[7].contents[0]\n",
    "        age = row.contents[8].contents[0]\n",
    "        totalAssets = row.contents[10].contents[0]\n",
    "        liabilities = row.contents[12].contents[0]\n",
    "        records2.append((constno, candname, partyname, criminalcase, education, age, totalAssets, liabilities))   "
   ]
  },
  {
   "cell_type": "code",
   "execution_count": 160,
   "metadata": {},
   "outputs": [],
   "source": [
    "records3=[]"
   ]
  },
  {
   "cell_type": "code",
   "execution_count": 161,
   "metadata": {},
   "outputs": [
    {
     "name": "stdout",
     "output_type": "stream",
     "text": [
      "https://myneta.info/tamilnadu2016/index.php?action=show_candidates&constituency_id=201\n",
      "https://myneta.info/tamilnadu2016/index.php?action=show_candidates&constituency_id=202\n",
      "https://myneta.info/tamilnadu2016/index.php?action=show_candidates&constituency_id=203\n",
      "https://myneta.info/tamilnadu2016/index.php?action=show_candidates&constituency_id=204\n",
      "https://myneta.info/tamilnadu2016/index.php?action=show_candidates&constituency_id=205\n",
      "https://myneta.info/tamilnadu2016/index.php?action=show_candidates&constituency_id=206\n",
      "https://myneta.info/tamilnadu2016/index.php?action=show_candidates&constituency_id=207\n",
      "https://myneta.info/tamilnadu2016/index.php?action=show_candidates&constituency_id=208\n",
      "https://myneta.info/tamilnadu2016/index.php?action=show_candidates&constituency_id=209\n",
      "https://myneta.info/tamilnadu2016/index.php?action=show_candidates&constituency_id=210\n",
      "https://myneta.info/tamilnadu2016/index.php?action=show_candidates&constituency_id=211\n",
      "https://myneta.info/tamilnadu2016/index.php?action=show_candidates&constituency_id=212\n",
      "https://myneta.info/tamilnadu2016/index.php?action=show_candidates&constituency_id=213\n",
      "https://myneta.info/tamilnadu2016/index.php?action=show_candidates&constituency_id=214\n",
      "https://myneta.info/tamilnadu2016/index.php?action=show_candidates&constituency_id=215\n",
      "https://myneta.info/tamilnadu2016/index.php?action=show_candidates&constituency_id=216\n",
      "https://myneta.info/tamilnadu2016/index.php?action=show_candidates&constituency_id=217\n",
      "https://myneta.info/tamilnadu2016/index.php?action=show_candidates&constituency_id=218\n",
      "https://myneta.info/tamilnadu2016/index.php?action=show_candidates&constituency_id=219\n",
      "https://myneta.info/tamilnadu2016/index.php?action=show_candidates&constituency_id=220\n",
      "https://myneta.info/tamilnadu2016/index.php?action=show_candidates&constituency_id=221\n",
      "https://myneta.info/tamilnadu2016/index.php?action=show_candidates&constituency_id=222\n",
      "https://myneta.info/tamilnadu2016/index.php?action=show_candidates&constituency_id=223\n",
      "https://myneta.info/tamilnadu2016/index.php?action=show_candidates&constituency_id=224\n",
      "https://myneta.info/tamilnadu2016/index.php?action=show_candidates&constituency_id=225\n",
      "https://myneta.info/tamilnadu2016/index.php?action=show_candidates&constituency_id=226\n",
      "https://myneta.info/tamilnadu2016/index.php?action=show_candidates&constituency_id=227\n",
      "https://myneta.info/tamilnadu2016/index.php?action=show_candidates&constituency_id=228\n",
      "https://myneta.info/tamilnadu2016/index.php?action=show_candidates&constituency_id=229\n",
      "https://myneta.info/tamilnadu2016/index.php?action=show_candidates&constituency_id=230\n",
      "https://myneta.info/tamilnadu2016/index.php?action=show_candidates&constituency_id=231\n",
      "https://myneta.info/tamilnadu2016/index.php?action=show_candidates&constituency_id=232\n",
      "https://myneta.info/tamilnadu2016/index.php?action=show_candidates&constituency_id=233\n",
      "https://myneta.info/tamilnadu2016/index.php?action=show_candidates&constituency_id=234\n",
      "https://myneta.info/tamilnadu2016/index.php?action=show_candidates&constituency_id=235\n",
      "https://myneta.info/tamilnadu2016/index.php?action=show_candidates&constituency_id=236\n",
      "https://myneta.info/tamilnadu2016/index.php?action=show_candidates&constituency_id=237\n",
      "https://myneta.info/tamilnadu2016/index.php?action=show_candidates&constituency_id=238\n",
      "https://myneta.info/tamilnadu2016/index.php?action=show_candidates&constituency_id=239\n",
      "https://myneta.info/tamilnadu2016/index.php?action=show_candidates&constituency_id=240\n",
      "https://myneta.info/tamilnadu2016/index.php?action=show_candidates&constituency_id=241\n",
      "https://myneta.info/tamilnadu2016/index.php?action=show_candidates&constituency_id=242\n",
      "https://myneta.info/tamilnadu2016/index.php?action=show_candidates&constituency_id=243\n"
     ]
    }
   ],
   "source": [
    "base_url = \"https://myneta.info/tamilnadu2016/index.php?action=show_candidates&constituency_id=\"\n",
    "for constid in range(201,244):\n",
    "    print(base_url+str(constid))\n",
    "    reqUrl = requests.get(base_url+str(constid))\n",
    "    subpage = BeautifulSoup(reqUrl.text, 'html.parser')\n",
    "    getCandTable = subpage.find_all('table', attrs={'id':'table1'})\n",
    "    getAllTrs = getCandTable[0].find_all('tr')[1:]\n",
    "    for row in getAllTrs:\n",
    "        constno=constid\n",
    "        candname = row.contents[1].contents[0].contents[0]\n",
    "        partyname = row.contents[3].contents[0]\n",
    "        criminalcase = row.contents[5].contents[0]\n",
    "        education = row.contents[7].contents[0]\n",
    "        age = row.contents[8].contents[0]\n",
    "        totalAssets = row.contents[10].contents[0]\n",
    "        liabilities = row.contents[12].contents[0]\n",
    "        records3.append((constno, candname, partyname, criminalcase, education, age, totalAssets, liabilities))   "
   ]
  },
  {
   "cell_type": "code",
   "execution_count": 162,
   "metadata": {},
   "outputs": [
    {
     "name": "stdout",
     "output_type": "stream",
     "text": [
      "3443\n"
     ]
    }
   ],
   "source": [
    "print(len(records)+len(records2)+len(records3))"
   ]
  },
  {
   "cell_type": "code",
   "execution_count": 163,
   "metadata": {},
   "outputs": [
    {
     "data": {
      "text/plain": [
       "3443"
      ]
     },
     "execution_count": 163,
     "metadata": {},
     "output_type": "execute_result"
    }
   ],
   "source": [
    "all_tn_records = records + records2 + records3\n",
    "len(all_tn_records)"
   ]
  },
  {
   "cell_type": "code",
   "execution_count": 202,
   "metadata": {},
   "outputs": [],
   "source": [
    "import pandas as pd\n",
    "df = pd.DataFrame(all_tn_records, columns=['constno', 'candidatename', 'party', 'criminalcases', 'education', 'age', 'totalassets', 'liabilities'])"
   ]
  },
  {
   "cell_type": "code",
   "execution_count": 203,
   "metadata": {},
   "outputs": [
    {
     "data": {
      "text/html": [
       "<div>\n",
       "<style scoped>\n",
       "    .dataframe tbody tr th:only-of-type {\n",
       "        vertical-align: middle;\n",
       "    }\n",
       "\n",
       "    .dataframe tbody tr th {\n",
       "        vertical-align: top;\n",
       "    }\n",
       "\n",
       "    .dataframe thead th {\n",
       "        text-align: right;\n",
       "    }\n",
       "</style>\n",
       "<table border=\"1\" class=\"dataframe\">\n",
       "  <thead>\n",
       "    <tr style=\"text-align: right;\">\n",
       "      <th></th>\n",
       "      <th>constno</th>\n",
       "      <th>candidatename</th>\n",
       "      <th>party</th>\n",
       "      <th>criminalcases</th>\n",
       "      <th>education</th>\n",
       "      <th>age</th>\n",
       "      <th>totalassets</th>\n",
       "      <th>liabilities</th>\n",
       "    </tr>\n",
       "  </thead>\n",
       "  <tbody>\n",
       "    <tr>\n",
       "      <th>3438</th>\n",
       "      <td>243</td>\n",
       "      <td>A. Asokan</td>\n",
       "      <td>DMK</td>\n",
       "      <td>[ 3 ]</td>\n",
       "      <td>Graduate</td>\n",
       "      <td>58</td>\n",
       "      <td>Rs 2,38,52,280</td>\n",
       "      <td>Rs 1,21,50,000</td>\n",
       "    </tr>\n",
       "    <tr>\n",
       "      <th>3439</th>\n",
       "      <td>243</td>\n",
       "      <td>J. Mani</td>\n",
       "      <td>IND</td>\n",
       "      <td>0</td>\n",
       "      <td>10th Pass</td>\n",
       "      <td>33</td>\n",
       "      <td>Rs 2,60,000</td>\n",
       "      <td>Rs 0</td>\n",
       "    </tr>\n",
       "    <tr>\n",
       "      <th>3440</th>\n",
       "      <td>243</td>\n",
       "      <td>M.v. Poovannan</td>\n",
       "      <td>IND</td>\n",
       "      <td>0</td>\n",
       "      <td>Graduate</td>\n",
       "      <td>40</td>\n",
       "      <td>Rs 19,49,375</td>\n",
       "      <td>Rs 2,41,628</td>\n",
       "    </tr>\n",
       "    <tr>\n",
       "      <th>3441</th>\n",
       "      <td>243</td>\n",
       "      <td>S. Malayarajan</td>\n",
       "      <td>Makkal Needhi Maiam</td>\n",
       "      <td>0</td>\n",
       "      <td>Graduate</td>\n",
       "      <td>0</td>\n",
       "      <td>Rs 4,94,328</td>\n",
       "      <td>Rs 0</td>\n",
       "    </tr>\n",
       "    <tr>\n",
       "      <th>3442</th>\n",
       "      <td>243</td>\n",
       "      <td>T.g. Mani</td>\n",
       "      <td>IND</td>\n",
       "      <td>0</td>\n",
       "      <td>Graduate</td>\n",
       "      <td>64</td>\n",
       "      <td>Rs 54,84,814</td>\n",
       "      <td>Rs 0</td>\n",
       "    </tr>\n",
       "  </tbody>\n",
       "</table>\n",
       "</div>"
      ],
      "text/plain": [
       "      constno   candidatename                party criminalcases  education  \\\n",
       "3438      243       A. Asokan                  DMK         [ 3 ]   Graduate   \n",
       "3439      243         J. Mani                  IND             0  10th Pass   \n",
       "3440      243  M.v. Poovannan                  IND             0   Graduate   \n",
       "3441      243  S. Malayarajan  Makkal Needhi Maiam             0   Graduate   \n",
       "3442      243       T.g. Mani                  IND             0   Graduate   \n",
       "\n",
       "     age     totalassets     liabilities  \n",
       "3438  58  Rs 2,38,52,280  Rs 1,21,50,000  \n",
       "3439  33     Rs 2,60,000            Rs 0  \n",
       "3440  40    Rs 19,49,375     Rs 2,41,628  \n",
       "3441   0     Rs 4,94,328            Rs 0  \n",
       "3442  64    Rs 54,84,814            Rs 0  "
      ]
     },
     "execution_count": 203,
     "metadata": {},
     "output_type": "execute_result"
    }
   ],
   "source": [
    "df.tail()"
   ]
  },
  {
   "cell_type": "code",
   "execution_count": 196,
   "metadata": {},
   "outputs": [],
   "source": [
    "df.to_csv(\"raw-data/all_tn_candidate_raw.csv\", index=False)\n",
    "\n"
   ]
  },
  {
   "cell_type": "code",
   "execution_count": 201,
   "metadata": {},
   "outputs": [
    {
     "ename": "TypeError",
     "evalue": "expected string or bytes-like object",
     "output_type": "error",
     "traceback": [
      "\u001b[1;31m---------------------------------------------------------------------------\u001b[0m",
      "\u001b[1;31mTypeError\u001b[0m                                 Traceback (most recent call last)",
      "\u001b[1;32m<ipython-input-201-a9d9ced61df7>\u001b[0m in \u001b[0;36m<module>\u001b[1;34m\u001b[0m\n\u001b[0;32m      5\u001b[0m \u001b[1;33m\u001b[0m\u001b[0m\n\u001b[0;32m      6\u001b[0m \u001b[1;33m\u001b[0m\u001b[0m\n\u001b[1;32m----> 7\u001b[1;33m \u001b[0mdf\u001b[0m\u001b[1;33m[\u001b[0m\u001b[1;34m'criminalcases'\u001b[0m\u001b[1;33m]\u001b[0m\u001b[1;33m=\u001b[0m\u001b[0mdf\u001b[0m\u001b[1;33m[\u001b[0m\u001b[1;34m'criminalcases'\u001b[0m\u001b[1;33m]\u001b[0m\u001b[1;33m.\u001b[0m\u001b[0mapply\u001b[0m\u001b[1;33m(\u001b[0m\u001b[1;32mlambda\u001b[0m \u001b[0mcw\u001b[0m \u001b[1;33m:\u001b[0m \u001b[0mremove_tags\u001b[0m\u001b[1;33m(\u001b[0m\u001b[0mcw\u001b[0m\u001b[1;33m)\u001b[0m\u001b[1;33m)\u001b[0m\u001b[1;33m\u001b[0m\u001b[1;33m\u001b[0m\u001b[0m\n\u001b[0m",
      "\u001b[1;32m~\\anaconda3\\lib\\site-packages\\pandas\\core\\series.py\u001b[0m in \u001b[0;36mapply\u001b[1;34m(self, func, convert_dtype, args, **kwds)\u001b[0m\n\u001b[0;32m   4198\u001b[0m             \u001b[1;32melse\u001b[0m\u001b[1;33m:\u001b[0m\u001b[1;33m\u001b[0m\u001b[1;33m\u001b[0m\u001b[0m\n\u001b[0;32m   4199\u001b[0m                 \u001b[0mvalues\u001b[0m \u001b[1;33m=\u001b[0m \u001b[0mself\u001b[0m\u001b[1;33m.\u001b[0m\u001b[0mastype\u001b[0m\u001b[1;33m(\u001b[0m\u001b[0mobject\u001b[0m\u001b[1;33m)\u001b[0m\u001b[1;33m.\u001b[0m\u001b[0m_values\u001b[0m\u001b[1;33m\u001b[0m\u001b[1;33m\u001b[0m\u001b[0m\n\u001b[1;32m-> 4200\u001b[1;33m                 \u001b[0mmapped\u001b[0m \u001b[1;33m=\u001b[0m \u001b[0mlib\u001b[0m\u001b[1;33m.\u001b[0m\u001b[0mmap_infer\u001b[0m\u001b[1;33m(\u001b[0m\u001b[0mvalues\u001b[0m\u001b[1;33m,\u001b[0m \u001b[0mf\u001b[0m\u001b[1;33m,\u001b[0m \u001b[0mconvert\u001b[0m\u001b[1;33m=\u001b[0m\u001b[0mconvert_dtype\u001b[0m\u001b[1;33m)\u001b[0m\u001b[1;33m\u001b[0m\u001b[1;33m\u001b[0m\u001b[0m\n\u001b[0m\u001b[0;32m   4201\u001b[0m \u001b[1;33m\u001b[0m\u001b[0m\n\u001b[0;32m   4202\u001b[0m         \u001b[1;32mif\u001b[0m \u001b[0mlen\u001b[0m\u001b[1;33m(\u001b[0m\u001b[0mmapped\u001b[0m\u001b[1;33m)\u001b[0m \u001b[1;32mand\u001b[0m \u001b[0misinstance\u001b[0m\u001b[1;33m(\u001b[0m\u001b[0mmapped\u001b[0m\u001b[1;33m[\u001b[0m\u001b[1;36m0\u001b[0m\u001b[1;33m]\u001b[0m\u001b[1;33m,\u001b[0m \u001b[0mSeries\u001b[0m\u001b[1;33m)\u001b[0m\u001b[1;33m:\u001b[0m\u001b[1;33m\u001b[0m\u001b[1;33m\u001b[0m\u001b[0m\n",
      "\u001b[1;32mpandas\\_libs\\lib.pyx\u001b[0m in \u001b[0;36mpandas._libs.lib.map_infer\u001b[1;34m()\u001b[0m\n",
      "\u001b[1;32m<ipython-input-201-a9d9ced61df7>\u001b[0m in \u001b[0;36m<lambda>\u001b[1;34m(cw)\u001b[0m\n\u001b[0;32m      5\u001b[0m \u001b[1;33m\u001b[0m\u001b[0m\n\u001b[0;32m      6\u001b[0m \u001b[1;33m\u001b[0m\u001b[0m\n\u001b[1;32m----> 7\u001b[1;33m \u001b[0mdf\u001b[0m\u001b[1;33m[\u001b[0m\u001b[1;34m'criminalcases'\u001b[0m\u001b[1;33m]\u001b[0m\u001b[1;33m=\u001b[0m\u001b[0mdf\u001b[0m\u001b[1;33m[\u001b[0m\u001b[1;34m'criminalcases'\u001b[0m\u001b[1;33m]\u001b[0m\u001b[1;33m.\u001b[0m\u001b[0mapply\u001b[0m\u001b[1;33m(\u001b[0m\u001b[1;32mlambda\u001b[0m \u001b[0mcw\u001b[0m \u001b[1;33m:\u001b[0m \u001b[0mremove_tags\u001b[0m\u001b[1;33m(\u001b[0m\u001b[0mcw\u001b[0m\u001b[1;33m)\u001b[0m\u001b[1;33m)\u001b[0m\u001b[1;33m\u001b[0m\u001b[1;33m\u001b[0m\u001b[0m\n\u001b[0m",
      "\u001b[1;32m<ipython-input-201-a9d9ced61df7>\u001b[0m in \u001b[0;36mremove_tags\u001b[1;34m(string)\u001b[0m\n\u001b[0;32m      1\u001b[0m \u001b[1;32mimport\u001b[0m \u001b[0mre\u001b[0m \u001b[1;32mas\u001b[0m \u001b[0mre\u001b[0m\u001b[1;33m\u001b[0m\u001b[1;33m\u001b[0m\u001b[0m\n\u001b[0;32m      2\u001b[0m \u001b[1;32mdef\u001b[0m \u001b[0mremove_tags\u001b[0m\u001b[1;33m(\u001b[0m\u001b[0mstring\u001b[0m\u001b[1;33m)\u001b[0m\u001b[1;33m:\u001b[0m\u001b[1;33m\u001b[0m\u001b[1;33m\u001b[0m\u001b[0m\n\u001b[1;32m----> 3\u001b[1;33m     \u001b[0mresult\u001b[0m \u001b[1;33m=\u001b[0m \u001b[0mre\u001b[0m\u001b[1;33m.\u001b[0m\u001b[0msub\u001b[0m\u001b[1;33m(\u001b[0m\u001b[1;34m'<.*?>'\u001b[0m\u001b[1;33m,\u001b[0m\u001b[1;34m''\u001b[0m\u001b[1;33m,\u001b[0m\u001b[0mstring\u001b[0m\u001b[1;33m)\u001b[0m\u001b[1;33m\u001b[0m\u001b[1;33m\u001b[0m\u001b[0m\n\u001b[0m\u001b[0;32m      4\u001b[0m     \u001b[1;32mreturn\u001b[0m \u001b[0mresult\u001b[0m\u001b[1;33m\u001b[0m\u001b[1;33m\u001b[0m\u001b[0m\n\u001b[0;32m      5\u001b[0m \u001b[1;33m\u001b[0m\u001b[0m\n",
      "\u001b[1;32m~\\anaconda3\\lib\\re.py\u001b[0m in \u001b[0;36msub\u001b[1;34m(pattern, repl, string, count, flags)\u001b[0m\n\u001b[0;32m    190\u001b[0m     \u001b[0ma\u001b[0m \u001b[0mcallable\u001b[0m\u001b[1;33m,\u001b[0m \u001b[0mit\u001b[0m\u001b[0;31m'\u001b[0m\u001b[0ms\u001b[0m \u001b[0mpassed\u001b[0m \u001b[0mthe\u001b[0m \u001b[0mMatch\u001b[0m \u001b[0mobject\u001b[0m \u001b[1;32mand\u001b[0m \u001b[0mmust\u001b[0m \u001b[1;32mreturn\u001b[0m\u001b[1;33m\u001b[0m\u001b[1;33m\u001b[0m\u001b[0m\n\u001b[0;32m    191\u001b[0m     a replacement string to be used.\"\"\"\n\u001b[1;32m--> 192\u001b[1;33m     \u001b[1;32mreturn\u001b[0m \u001b[0m_compile\u001b[0m\u001b[1;33m(\u001b[0m\u001b[0mpattern\u001b[0m\u001b[1;33m,\u001b[0m \u001b[0mflags\u001b[0m\u001b[1;33m)\u001b[0m\u001b[1;33m.\u001b[0m\u001b[0msub\u001b[0m\u001b[1;33m(\u001b[0m\u001b[0mrepl\u001b[0m\u001b[1;33m,\u001b[0m \u001b[0mstring\u001b[0m\u001b[1;33m,\u001b[0m \u001b[0mcount\u001b[0m\u001b[1;33m)\u001b[0m\u001b[1;33m\u001b[0m\u001b[1;33m\u001b[0m\u001b[0m\n\u001b[0m\u001b[0;32m    193\u001b[0m \u001b[1;33m\u001b[0m\u001b[0m\n\u001b[0;32m    194\u001b[0m \u001b[1;32mdef\u001b[0m \u001b[0msubn\u001b[0m\u001b[1;33m(\u001b[0m\u001b[0mpattern\u001b[0m\u001b[1;33m,\u001b[0m \u001b[0mrepl\u001b[0m\u001b[1;33m,\u001b[0m \u001b[0mstring\u001b[0m\u001b[1;33m,\u001b[0m \u001b[0mcount\u001b[0m\u001b[1;33m=\u001b[0m\u001b[1;36m0\u001b[0m\u001b[1;33m,\u001b[0m \u001b[0mflags\u001b[0m\u001b[1;33m=\u001b[0m\u001b[1;36m0\u001b[0m\u001b[1;33m)\u001b[0m\u001b[1;33m:\u001b[0m\u001b[1;33m\u001b[0m\u001b[1;33m\u001b[0m\u001b[0m\n",
      "\u001b[1;31mTypeError\u001b[0m: expected string or bytes-like object"
     ]
    }
   ],
   "source": [
    "import re as re\n",
    "def remove_tags(string):\n",
    "    result = re.sub('<.*?>','',string)\n",
    "    return result\n",
    "\n",
    "\n",
    "df['criminalcases']=df['criminalcases'].apply(lambda cw : remove_tags(cw))"
   ]
  },
  {
   "cell_type": "code",
   "execution_count": 189,
   "metadata": {},
   "outputs": [
    {
     "data": {
      "text/html": [
       "<div>\n",
       "<style scoped>\n",
       "    .dataframe tbody tr th:only-of-type {\n",
       "        vertical-align: middle;\n",
       "    }\n",
       "\n",
       "    .dataframe tbody tr th {\n",
       "        vertical-align: top;\n",
       "    }\n",
       "\n",
       "    .dataframe thead th {\n",
       "        text-align: right;\n",
       "    }\n",
       "</style>\n",
       "<table border=\"1\" class=\"dataframe\">\n",
       "  <thead>\n",
       "    <tr style=\"text-align: right;\">\n",
       "      <th></th>\n",
       "      <th>constno</th>\n",
       "      <th>candidatename</th>\n",
       "      <th>party</th>\n",
       "      <th>criminalcases</th>\n",
       "      <th>education</th>\n",
       "      <th>age</th>\n",
       "      <th>totalassets</th>\n",
       "      <th>liabilities</th>\n",
       "    </tr>\n",
       "  </thead>\n",
       "  <tbody>\n",
       "    <tr>\n",
       "      <th>0</th>\n",
       "      <td>1</td>\n",
       "      <td>Rajendran. S</td>\n",
       "      <td>AIADMK</td>\n",
       "      <td>&lt;class 'str'&gt;</td>\n",
       "      <td>8th Pass</td>\n",
       "      <td>56</td>\n",
       "      <td>Rs 51,02,984</td>\n",
       "      <td>Rs 2,51,000</td>\n",
       "    </tr>\n",
       "    <tr>\n",
       "      <th>1</th>\n",
       "      <td>1</td>\n",
       "      <td>Baskar. C</td>\n",
       "      <td>Indiya Jananayaka Katchi</td>\n",
       "      <td>&lt;class 'str'&gt;</td>\n",
       "      <td>Graduate Professional</td>\n",
       "      <td>46</td>\n",
       "      <td>Rs 7,46,15,911</td>\n",
       "      <td>Rs 2,92,02,303</td>\n",
       "    </tr>\n",
       "    <tr>\n",
       "      <th>2</th>\n",
       "      <td>1</td>\n",
       "      <td>Jayavel. Rama</td>\n",
       "      <td>DMDK</td>\n",
       "      <td>&lt;class 'str'&gt;</td>\n",
       "      <td>5th Pass</td>\n",
       "      <td>46</td>\n",
       "      <td>Rs 1,42,40,225</td>\n",
       "      <td>Rs 2,62,994</td>\n",
       "    </tr>\n",
       "    <tr>\n",
       "      <th>3</th>\n",
       "      <td>1</td>\n",
       "      <td>Krishna. K</td>\n",
       "      <td>IND</td>\n",
       "      <td>&lt;class 'str'&gt;</td>\n",
       "      <td>10th Pass</td>\n",
       "      <td>51</td>\n",
       "      <td>Rs 26,072</td>\n",
       "      <td>Rs 0</td>\n",
       "    </tr>\n",
       "    <tr>\n",
       "      <th>4</th>\n",
       "      <td>1</td>\n",
       "      <td>Manikkam. T</td>\n",
       "      <td>Naam Tamilar Katchi</td>\n",
       "      <td>&lt;class 'str'&gt;</td>\n",
       "      <td>8th Pass</td>\n",
       "      <td>33</td>\n",
       "      <td>Rs 3,82,872</td>\n",
       "      <td>Rs 1,30,000</td>\n",
       "    </tr>\n",
       "  </tbody>\n",
       "</table>\n",
       "</div>"
      ],
      "text/plain": [
       "   constno  candidatename                     party  criminalcases  \\\n",
       "0        1   Rajendran. S                    AIADMK  <class 'str'>   \n",
       "1        1      Baskar. C  Indiya Jananayaka Katchi  <class 'str'>   \n",
       "2        1  Jayavel. Rama                      DMDK  <class 'str'>   \n",
       "3        1     Krishna. K                       IND  <class 'str'>   \n",
       "4        1    Manikkam. T       Naam Tamilar Katchi  <class 'str'>   \n",
       "\n",
       "               education age     totalassets     liabilities  \n",
       "0               8th Pass  56    Rs 51,02,984     Rs 2,51,000  \n",
       "1  Graduate Professional  46  Rs 7,46,15,911  Rs 2,92,02,303  \n",
       "2               5th Pass  46  Rs 1,42,40,225     Rs 2,62,994  \n",
       "3              10th Pass  51       Rs 26,072            Rs 0  \n",
       "4               8th Pass  33     Rs 3,82,872     Rs 1,30,000  "
      ]
     },
     "execution_count": 189,
     "metadata": {},
     "output_type": "execute_result"
    }
   ],
   "source": [
    "df.head()"
   ]
  },
  {
   "cell_type": "code",
   "execution_count": 154,
   "metadata": {},
   "outputs": [
    {
     "data": {
      "text/plain": [
       "996"
      ]
     },
     "execution_count": 154,
     "metadata": {},
     "output_type": "execute_result"
    }
   ],
   "source": [
    "len(records)"
   ]
  },
  {
   "cell_type": "code",
   "execution_count": null,
   "metadata": {},
   "outputs": [],
   "source": []
  }
 ],
 "metadata": {
  "kernelspec": {
   "display_name": "Python 3",
   "language": "python",
   "name": "python3"
  },
  "language_info": {
   "codemirror_mode": {
    "name": "ipython",
    "version": 3
   },
   "file_extension": ".py",
   "mimetype": "text/x-python",
   "name": "python",
   "nbconvert_exporter": "python",
   "pygments_lexer": "ipython3",
   "version": "3.7.6"
  }
 },
 "nbformat": 4,
 "nbformat_minor": 4
}
